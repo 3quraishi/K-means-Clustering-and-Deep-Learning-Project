{
 "cells": [
  {
   "cell_type": "markdown",
   "id": "324c635c",
   "metadata": {},
   "source": [
    "# Introduction\n",
    "\n",
    "Welcome to the self-guided project, an integral part of the Applied Data Science and Big Data Diploma Program at We Cloud Data (WCD)! This comprehensive project dives into the fascinating realm of data analysis, where the power of K-means Clustering and cutting-edge Deep Learning techniques converge. The dataset utilized in this project was obtained from the University of California, Irvine (UCI), machine learning repository.\n",
    "\n",
    "The primary objective of this project was to gain hands-on experience in various stages of the Data Science workflow, including data import, exploration, feature engineering and selection, parameter tuning, model selection, and model interpretation.\n",
    "\n",
    "After importing the data, a thorough cleaning process was performed, followed by an extensive exploration of the dataset. This exploration phase aimed to uncover patterns, trends, and relationships within the data, facilitating valuable insights for further analysis and decision-making. Various exploratory data analysis techniques were employed, including statistical summaries, visualizations, and data profiling, to gain a deeper understanding of the dataset's content.\n",
    "\n",
    "To improve the dataset's predictive power, feature engineering and selection techniques were applied. This involved transforming existing variables, creating new features, and identifying the most influential variables for modeling purposes.\n",
    "\n",
    "K-means Clustering, a popular unsupervised learning technique, was employed to identify distinct patterns and groupings within the dataset. Additionally, a Deep Learning model was utilized, leveraging the power of neural networks to provide more accurate predictions. Deep Learning, a machine learning subfield inspired by the human brain's structure and function, leverages neural networks to model complex relationships within the data. The models' hyperparameters were systematically adjusted through an iterative process to identify the optimal configuration that maximized predictive accuracy. Model interpretation aimed to unravel the underlying factors driving the predictions and offer valuable explanations for decision-making processes."
   ]
  },
  {
   "cell_type": "code",
   "execution_count": 3,
   "id": "334cb488",
   "metadata": {},
   "outputs": [],
   "source": [
    "#Importing libraries\n",
    "\n",
    "%matplotlib inline\n",
    "import numpy as np\n",
    "import pandas as pd\n",
    "import seaborn as sns\n",
    "import matplotlib.pyplot as plt\n",
    "from sklearn.cluster import KMeans\n",
    "from sklearn.metrics import pairwise_distances_argmin\n",
    "from scikitplot.cluster import plot_elbow_curve\n",
    "from scikitplot.metrics import plot_silhouette\n",
    "from sklearn.datasets import make_blobs\n",
    "from sklearn.preprocessing import StandardScaler, LabelEncoder\n",
    "from sklearn.metrics import silhouette_samples, silhouette_score\n",
    "from sklearn import metrics\n",
    "from scipy.spatial.distance import cdist\n",
    "sns.set()\n",
    "from sklearn.tree import DecisionTreeClassifier\n",
    "from sklearn.model_selection import train_test_split\n",
    "from sklearn.model_selection import cross_val_score\n",
    "from tensorflow.keras.models import Sequential\n",
    "from tensorflow.keras.layers import Dense"
   ]
  },
  {
   "cell_type": "code",
   "execution_count": 4,
   "id": "81c0e4ae",
   "metadata": {
    "scrolled": true
   },
   "outputs": [],
   "source": [
    "# Reading excel file\n",
    "\n",
    "df = pd.read_excel(\"online_retail_ii.xlsx\")"
   ]
  },
  {
   "cell_type": "markdown",
   "id": "0daa8570",
   "metadata": {},
   "source": [
    "# Data Cleaning"
   ]
  },
  {
   "cell_type": "code",
   "execution_count": 5,
   "id": "8c57a9f3",
   "metadata": {},
   "outputs": [
    {
     "name": "stdout",
     "output_type": "stream",
     "text": [
      "Number of rows: 525461\n",
      "Number of columns: 8\n"
     ]
    }
   ],
   "source": [
    "# Checking the number of rows and columns\n",
    "\n",
    "df.shape\n",
    "print(\"Number of rows:\",df.shape[0])\n",
    "print(\"Number of columns:\",df.shape[1])"
   ]
  },
  {
   "cell_type": "code",
   "execution_count": 6,
   "id": "e59cd1df",
   "metadata": {},
   "outputs": [
    {
     "data": {
      "text/html": [
       "<div>\n",
       "<style scoped>\n",
       "    .dataframe tbody tr th:only-of-type {\n",
       "        vertical-align: middle;\n",
       "    }\n",
       "\n",
       "    .dataframe tbody tr th {\n",
       "        vertical-align: top;\n",
       "    }\n",
       "\n",
       "    .dataframe thead th {\n",
       "        text-align: right;\n",
       "    }\n",
       "</style>\n",
       "<table border=\"1\" class=\"dataframe\">\n",
       "  <thead>\n",
       "    <tr style=\"text-align: right;\">\n",
       "      <th></th>\n",
       "      <th>Invoice</th>\n",
       "      <th>StockCode</th>\n",
       "      <th>Description</th>\n",
       "      <th>Quantity</th>\n",
       "      <th>InvoiceDate</th>\n",
       "      <th>Price</th>\n",
       "      <th>Customer ID</th>\n",
       "      <th>Country</th>\n",
       "    </tr>\n",
       "  </thead>\n",
       "  <tbody>\n",
       "    <tr>\n",
       "      <th>0</th>\n",
       "      <td>489434</td>\n",
       "      <td>85048</td>\n",
       "      <td>15CM CHRISTMAS GLASS BALL 20 LIGHTS</td>\n",
       "      <td>12</td>\n",
       "      <td>2009-12-01 07:45:00</td>\n",
       "      <td>6.95</td>\n",
       "      <td>13085.0</td>\n",
       "      <td>United Kingdom</td>\n",
       "    </tr>\n",
       "    <tr>\n",
       "      <th>1</th>\n",
       "      <td>489434</td>\n",
       "      <td>79323P</td>\n",
       "      <td>PINK CHERRY LIGHTS</td>\n",
       "      <td>12</td>\n",
       "      <td>2009-12-01 07:45:00</td>\n",
       "      <td>6.75</td>\n",
       "      <td>13085.0</td>\n",
       "      <td>United Kingdom</td>\n",
       "    </tr>\n",
       "    <tr>\n",
       "      <th>2</th>\n",
       "      <td>489434</td>\n",
       "      <td>79323W</td>\n",
       "      <td>WHITE CHERRY LIGHTS</td>\n",
       "      <td>12</td>\n",
       "      <td>2009-12-01 07:45:00</td>\n",
       "      <td>6.75</td>\n",
       "      <td>13085.0</td>\n",
       "      <td>United Kingdom</td>\n",
       "    </tr>\n",
       "    <tr>\n",
       "      <th>3</th>\n",
       "      <td>489434</td>\n",
       "      <td>22041</td>\n",
       "      <td>RECORD FRAME 7\" SINGLE SIZE</td>\n",
       "      <td>48</td>\n",
       "      <td>2009-12-01 07:45:00</td>\n",
       "      <td>2.10</td>\n",
       "      <td>13085.0</td>\n",
       "      <td>United Kingdom</td>\n",
       "    </tr>\n",
       "    <tr>\n",
       "      <th>4</th>\n",
       "      <td>489434</td>\n",
       "      <td>21232</td>\n",
       "      <td>STRAWBERRY CERAMIC TRINKET BOX</td>\n",
       "      <td>24</td>\n",
       "      <td>2009-12-01 07:45:00</td>\n",
       "      <td>1.25</td>\n",
       "      <td>13085.0</td>\n",
       "      <td>United Kingdom</td>\n",
       "    </tr>\n",
       "  </tbody>\n",
       "</table>\n",
       "</div>"
      ],
      "text/plain": [
       "  Invoice StockCode                          Description  Quantity  \\\n",
       "0  489434     85048  15CM CHRISTMAS GLASS BALL 20 LIGHTS        12   \n",
       "1  489434    79323P                   PINK CHERRY LIGHTS        12   \n",
       "2  489434    79323W                  WHITE CHERRY LIGHTS        12   \n",
       "3  489434     22041         RECORD FRAME 7\" SINGLE SIZE         48   \n",
       "4  489434     21232       STRAWBERRY CERAMIC TRINKET BOX        24   \n",
       "\n",
       "          InvoiceDate  Price  Customer ID         Country  \n",
       "0 2009-12-01 07:45:00   6.95      13085.0  United Kingdom  \n",
       "1 2009-12-01 07:45:00   6.75      13085.0  United Kingdom  \n",
       "2 2009-12-01 07:45:00   6.75      13085.0  United Kingdom  \n",
       "3 2009-12-01 07:45:00   2.10      13085.0  United Kingdom  \n",
       "4 2009-12-01 07:45:00   1.25      13085.0  United Kingdom  "
      ]
     },
     "execution_count": 6,
     "metadata": {},
     "output_type": "execute_result"
    }
   ],
   "source": [
    "# Getting a sense of the data by checking the top five rows\n",
    "\n",
    "df.head()"
   ]
  },
  {
   "cell_type": "code",
   "execution_count": 7,
   "id": "9d0c3242",
   "metadata": {},
   "outputs": [
    {
     "data": {
      "text/html": [
       "<div>\n",
       "<style scoped>\n",
       "    .dataframe tbody tr th:only-of-type {\n",
       "        vertical-align: middle;\n",
       "    }\n",
       "\n",
       "    .dataframe tbody tr th {\n",
       "        vertical-align: top;\n",
       "    }\n",
       "\n",
       "    .dataframe thead th {\n",
       "        text-align: right;\n",
       "    }\n",
       "</style>\n",
       "<table border=\"1\" class=\"dataframe\">\n",
       "  <thead>\n",
       "    <tr style=\"text-align: right;\">\n",
       "      <th></th>\n",
       "      <th>Invoice</th>\n",
       "      <th>StockCode</th>\n",
       "      <th>Description</th>\n",
       "      <th>Quantity</th>\n",
       "      <th>InvoiceDate</th>\n",
       "      <th>Price</th>\n",
       "      <th>Customer ID</th>\n",
       "      <th>Country</th>\n",
       "    </tr>\n",
       "  </thead>\n",
       "  <tbody>\n",
       "    <tr>\n",
       "      <th>525456</th>\n",
       "      <td>538171</td>\n",
       "      <td>22271</td>\n",
       "      <td>FELTCRAFT DOLL ROSIE</td>\n",
       "      <td>2</td>\n",
       "      <td>2010-12-09 20:01:00</td>\n",
       "      <td>2.95</td>\n",
       "      <td>17530.0</td>\n",
       "      <td>United Kingdom</td>\n",
       "    </tr>\n",
       "    <tr>\n",
       "      <th>525457</th>\n",
       "      <td>538171</td>\n",
       "      <td>22750</td>\n",
       "      <td>FELTCRAFT PRINCESS LOLA DOLL</td>\n",
       "      <td>1</td>\n",
       "      <td>2010-12-09 20:01:00</td>\n",
       "      <td>3.75</td>\n",
       "      <td>17530.0</td>\n",
       "      <td>United Kingdom</td>\n",
       "    </tr>\n",
       "    <tr>\n",
       "      <th>525458</th>\n",
       "      <td>538171</td>\n",
       "      <td>22751</td>\n",
       "      <td>FELTCRAFT PRINCESS OLIVIA DOLL</td>\n",
       "      <td>1</td>\n",
       "      <td>2010-12-09 20:01:00</td>\n",
       "      <td>3.75</td>\n",
       "      <td>17530.0</td>\n",
       "      <td>United Kingdom</td>\n",
       "    </tr>\n",
       "    <tr>\n",
       "      <th>525459</th>\n",
       "      <td>538171</td>\n",
       "      <td>20970</td>\n",
       "      <td>PINK FLORAL FELTCRAFT SHOULDER BAG</td>\n",
       "      <td>2</td>\n",
       "      <td>2010-12-09 20:01:00</td>\n",
       "      <td>3.75</td>\n",
       "      <td>17530.0</td>\n",
       "      <td>United Kingdom</td>\n",
       "    </tr>\n",
       "    <tr>\n",
       "      <th>525460</th>\n",
       "      <td>538171</td>\n",
       "      <td>21931</td>\n",
       "      <td>JUMBO STORAGE BAG SUKI</td>\n",
       "      <td>2</td>\n",
       "      <td>2010-12-09 20:01:00</td>\n",
       "      <td>1.95</td>\n",
       "      <td>17530.0</td>\n",
       "      <td>United Kingdom</td>\n",
       "    </tr>\n",
       "  </tbody>\n",
       "</table>\n",
       "</div>"
      ],
      "text/plain": [
       "       Invoice StockCode                         Description  Quantity  \\\n",
       "525456  538171     22271                FELTCRAFT DOLL ROSIE         2   \n",
       "525457  538171     22750        FELTCRAFT PRINCESS LOLA DOLL         1   \n",
       "525458  538171     22751      FELTCRAFT PRINCESS OLIVIA DOLL         1   \n",
       "525459  538171     20970  PINK FLORAL FELTCRAFT SHOULDER BAG         2   \n",
       "525460  538171     21931              JUMBO STORAGE BAG SUKI         2   \n",
       "\n",
       "               InvoiceDate  Price  Customer ID         Country  \n",
       "525456 2010-12-09 20:01:00   2.95      17530.0  United Kingdom  \n",
       "525457 2010-12-09 20:01:00   3.75      17530.0  United Kingdom  \n",
       "525458 2010-12-09 20:01:00   3.75      17530.0  United Kingdom  \n",
       "525459 2010-12-09 20:01:00   3.75      17530.0  United Kingdom  \n",
       "525460 2010-12-09 20:01:00   1.95      17530.0  United Kingdom  "
      ]
     },
     "execution_count": 7,
     "metadata": {},
     "output_type": "execute_result"
    }
   ],
   "source": [
    "# Getting a sense of the data by checking the bottom five rows\n",
    "\n",
    "df.tail()"
   ]
  },
  {
   "cell_type": "code",
   "execution_count": 8,
   "id": "d0a4276e",
   "metadata": {},
   "outputs": [
    {
     "name": "stdout",
     "output_type": "stream",
     "text": [
      "<class 'pandas.core.frame.DataFrame'>\n",
      "RangeIndex: 525461 entries, 0 to 525460\n",
      "Data columns (total 8 columns):\n",
      " #   Column       Non-Null Count   Dtype         \n",
      "---  ------       --------------   -----         \n",
      " 0   Invoice      525461 non-null  object        \n",
      " 1   StockCode    525461 non-null  object        \n",
      " 2   Description  522533 non-null  object        \n",
      " 3   Quantity     525461 non-null  int64         \n",
      " 4   InvoiceDate  525461 non-null  datetime64[ns]\n",
      " 5   Price        525461 non-null  float64       \n",
      " 6   Customer ID  417534 non-null  float64       \n",
      " 7   Country      525461 non-null  object        \n",
      "dtypes: datetime64[ns](1), float64(2), int64(1), object(4)\n",
      "memory usage: 32.1+ MB\n"
     ]
    }
   ],
   "source": [
    "# Checking the data types\n",
    "\n",
    "df.info()"
   ]
  },
  {
   "cell_type": "code",
   "execution_count": 9,
   "id": "5968b6c0",
   "metadata": {},
   "outputs": [
    {
     "data": {
      "text/html": [
       "<div>\n",
       "<style scoped>\n",
       "    .dataframe tbody tr th:only-of-type {\n",
       "        vertical-align: middle;\n",
       "    }\n",
       "\n",
       "    .dataframe tbody tr th {\n",
       "        vertical-align: top;\n",
       "    }\n",
       "\n",
       "    .dataframe thead th {\n",
       "        text-align: right;\n",
       "    }\n",
       "</style>\n",
       "<table border=\"1\" class=\"dataframe\">\n",
       "  <thead>\n",
       "    <tr style=\"text-align: right;\">\n",
       "      <th></th>\n",
       "      <th>Quantity</th>\n",
       "      <th>Price</th>\n",
       "      <th>Customer ID</th>\n",
       "    </tr>\n",
       "  </thead>\n",
       "  <tbody>\n",
       "    <tr>\n",
       "      <th>count</th>\n",
       "      <td>525461.000000</td>\n",
       "      <td>525461.000000</td>\n",
       "      <td>417534.000000</td>\n",
       "    </tr>\n",
       "    <tr>\n",
       "      <th>mean</th>\n",
       "      <td>10.337667</td>\n",
       "      <td>4.688834</td>\n",
       "      <td>15360.645478</td>\n",
       "    </tr>\n",
       "    <tr>\n",
       "      <th>std</th>\n",
       "      <td>107.424110</td>\n",
       "      <td>146.126914</td>\n",
       "      <td>1680.811316</td>\n",
       "    </tr>\n",
       "    <tr>\n",
       "      <th>min</th>\n",
       "      <td>-9600.000000</td>\n",
       "      <td>-53594.360000</td>\n",
       "      <td>12346.000000</td>\n",
       "    </tr>\n",
       "    <tr>\n",
       "      <th>25%</th>\n",
       "      <td>1.000000</td>\n",
       "      <td>1.250000</td>\n",
       "      <td>13983.000000</td>\n",
       "    </tr>\n",
       "    <tr>\n",
       "      <th>50%</th>\n",
       "      <td>3.000000</td>\n",
       "      <td>2.100000</td>\n",
       "      <td>15311.000000</td>\n",
       "    </tr>\n",
       "    <tr>\n",
       "      <th>75%</th>\n",
       "      <td>10.000000</td>\n",
       "      <td>4.210000</td>\n",
       "      <td>16799.000000</td>\n",
       "    </tr>\n",
       "    <tr>\n",
       "      <th>max</th>\n",
       "      <td>19152.000000</td>\n",
       "      <td>25111.090000</td>\n",
       "      <td>18287.000000</td>\n",
       "    </tr>\n",
       "  </tbody>\n",
       "</table>\n",
       "</div>"
      ],
      "text/plain": [
       "            Quantity          Price    Customer ID\n",
       "count  525461.000000  525461.000000  417534.000000\n",
       "mean       10.337667       4.688834   15360.645478\n",
       "std       107.424110     146.126914    1680.811316\n",
       "min     -9600.000000  -53594.360000   12346.000000\n",
       "25%         1.000000       1.250000   13983.000000\n",
       "50%         3.000000       2.100000   15311.000000\n",
       "75%        10.000000       4.210000   16799.000000\n",
       "max     19152.000000   25111.090000   18287.000000"
      ]
     },
     "execution_count": 9,
     "metadata": {},
     "output_type": "execute_result"
    }
   ],
   "source": [
    "# Getting a sense of the numerical data\n",
    "\n",
    "df.describe()"
   ]
  },
  {
   "cell_type": "code",
   "execution_count": 10,
   "id": "0d5621a6",
   "metadata": {},
   "outputs": [
    {
     "name": "stdout",
     "output_type": "stream",
     "text": [
      "Null values: Invoice             0\n",
      "StockCode           0\n",
      "Description      2928\n",
      "Quantity            0\n",
      "InvoiceDate         0\n",
      "Price               0\n",
      "Customer ID    107927\n",
      "Country             0\n",
      "dtype: int64\n",
      "NA values: True\n",
      "NA values: 110855\n"
     ]
    }
   ],
   "source": [
    "# Checking for null values and nan values\n",
    "\n",
    "print(\"Null values:\",df.isnull().sum())\n",
    "print(\"NA values:\", df.isna().values.any())\n",
    "print(\"NA values:\", df.isna().values.sum())"
   ]
  },
  {
   "cell_type": "code",
   "execution_count": 11,
   "id": "b4b529bb",
   "metadata": {},
   "outputs": [],
   "source": [
    "# Dropping null and nan values \n",
    "# Customer ID has to be dropped - the missing values account for roughly 25%  \n",
    "\n",
    "df = df.dropna().reset_index(drop=True)"
   ]
  },
  {
   "cell_type": "code",
   "execution_count": 12,
   "id": "03fb53a4",
   "metadata": {},
   "outputs": [
    {
     "name": "stdout",
     "output_type": "stream",
     "text": [
      "Null values: Invoice        0\n",
      "StockCode      0\n",
      "Description    0\n",
      "Quantity       0\n",
      "InvoiceDate    0\n",
      "Price          0\n",
      "Customer ID    0\n",
      "Country        0\n",
      "dtype: int64\n",
      "NA values: False\n",
      "NA values: 0\n"
     ]
    }
   ],
   "source": [
    "print(\"Null values:\",df.isnull().sum())\n",
    "print(\"NA values:\", df.isna().values.any())\n",
    "print(\"NA values:\", df.isna().values.sum())"
   ]
  },
  {
   "cell_type": "code",
   "execution_count": 13,
   "id": "7ade9b5b",
   "metadata": {},
   "outputs": [
    {
     "name": "stdout",
     "output_type": "stream",
     "text": [
      "<class 'pandas.core.frame.DataFrame'>\n",
      "RangeIndex: 417534 entries, 0 to 417533\n",
      "Data columns (total 8 columns):\n",
      " #   Column       Non-Null Count   Dtype         \n",
      "---  ------       --------------   -----         \n",
      " 0   Invoice      417534 non-null  object        \n",
      " 1   StockCode    417534 non-null  object        \n",
      " 2   Description  417534 non-null  object        \n",
      " 3   Quantity     417534 non-null  int64         \n",
      " 4   InvoiceDate  417534 non-null  datetime64[ns]\n",
      " 5   Price        417534 non-null  float64       \n",
      " 6   Customer ID  417534 non-null  float64       \n",
      " 7   Country      417534 non-null  object        \n",
      "dtypes: datetime64[ns](1), float64(2), int64(1), object(4)\n",
      "memory usage: 25.5+ MB\n"
     ]
    }
   ],
   "source": [
    "# Checking again for null values and nan values\n",
    "df.info()"
   ]
  },
  {
   "cell_type": "code",
   "execution_count": 13,
   "id": "0db45b8b",
   "metadata": {},
   "outputs": [
    {
     "data": {
      "text/html": [
       "<div>\n",
       "<style scoped>\n",
       "    .dataframe tbody tr th:only-of-type {\n",
       "        vertical-align: middle;\n",
       "    }\n",
       "\n",
       "    .dataframe tbody tr th {\n",
       "        vertical-align: top;\n",
       "    }\n",
       "\n",
       "    .dataframe thead th {\n",
       "        text-align: right;\n",
       "    }\n",
       "</style>\n",
       "<table border=\"1\" class=\"dataframe\">\n",
       "  <thead>\n",
       "    <tr style=\"text-align: right;\">\n",
       "      <th></th>\n",
       "      <th>Invoice</th>\n",
       "      <th>StockCode</th>\n",
       "      <th>Description</th>\n",
       "      <th>Quantity</th>\n",
       "      <th>InvoiceDate</th>\n",
       "      <th>Price</th>\n",
       "      <th>Customer ID</th>\n",
       "      <th>Country</th>\n",
       "    </tr>\n",
       "  </thead>\n",
       "  <tbody>\n",
       "    <tr>\n",
       "      <th>405833</th>\n",
       "      <td>C536757</td>\n",
       "      <td>84347</td>\n",
       "      <td>ROTATING SILVER ANGELS T-LIGHT HLDR</td>\n",
       "      <td>-9360</td>\n",
       "      <td>2010-12-02 14:23:00</td>\n",
       "      <td>0.03</td>\n",
       "      <td>15838.0</td>\n",
       "      <td>United Kingdom</td>\n",
       "    </tr>\n",
       "    <tr>\n",
       "      <th>285558</th>\n",
       "      <td>C524235</td>\n",
       "      <td>21088</td>\n",
       "      <td>SET/6 FRUIT SALAD PAPER CUPS</td>\n",
       "      <td>-7128</td>\n",
       "      <td>2010-09-28 11:02:00</td>\n",
       "      <td>0.08</td>\n",
       "      <td>14277.0</td>\n",
       "      <td>France</td>\n",
       "    </tr>\n",
       "    <tr>\n",
       "      <th>285559</th>\n",
       "      <td>C524235</td>\n",
       "      <td>21096</td>\n",
       "      <td>SET/6 FRUIT SALAD  PAPER PLATES</td>\n",
       "      <td>-7008</td>\n",
       "      <td>2010-09-28 11:02:00</td>\n",
       "      <td>0.13</td>\n",
       "      <td>14277.0</td>\n",
       "      <td>France</td>\n",
       "    </tr>\n",
       "    <tr>\n",
       "      <th>285519</th>\n",
       "      <td>C524235</td>\n",
       "      <td>16047</td>\n",
       "      <td>POP ART PEN CASE &amp; PENS</td>\n",
       "      <td>-5184</td>\n",
       "      <td>2010-09-28 11:02:00</td>\n",
       "      <td>0.08</td>\n",
       "      <td>14277.0</td>\n",
       "      <td>France</td>\n",
       "    </tr>\n",
       "    <tr>\n",
       "      <th>285525</th>\n",
       "      <td>C524235</td>\n",
       "      <td>37340</td>\n",
       "      <td>MULTICOLOUR SPRING FLOWER MUG</td>\n",
       "      <td>-4992</td>\n",
       "      <td>2010-09-28 11:02:00</td>\n",
       "      <td>0.10</td>\n",
       "      <td>14277.0</td>\n",
       "      <td>France</td>\n",
       "    </tr>\n",
       "    <tr>\n",
       "      <th>...</th>\n",
       "      <td>...</td>\n",
       "      <td>...</td>\n",
       "      <td>...</td>\n",
       "      <td>...</td>\n",
       "      <td>...</td>\n",
       "      <td>...</td>\n",
       "      <td>...</td>\n",
       "      <td>...</td>\n",
       "    </tr>\n",
       "    <tr>\n",
       "      <th>31324</th>\n",
       "      <td>C493191</td>\n",
       "      <td>21034</td>\n",
       "      <td>REX CASH+CARRY JUMBO SHOPPER</td>\n",
       "      <td>-1</td>\n",
       "      <td>2009-12-22 13:13:00</td>\n",
       "      <td>0.95</td>\n",
       "      <td>15581.0</td>\n",
       "      <td>United Kingdom</td>\n",
       "    </tr>\n",
       "    <tr>\n",
       "      <th>31351</th>\n",
       "      <td>C493259</td>\n",
       "      <td>85047</td>\n",
       "      <td>WHITE BEADED GARLAND STRING 20LIGHT</td>\n",
       "      <td>-1</td>\n",
       "      <td>2009-12-22 14:25:00</td>\n",
       "      <td>6.35</td>\n",
       "      <td>17632.0</td>\n",
       "      <td>United Kingdom</td>\n",
       "    </tr>\n",
       "    <tr>\n",
       "      <th>196811</th>\n",
       "      <td>C513749</td>\n",
       "      <td>21746</td>\n",
       "      <td>SMALL RED RETROSPOT WINDMILL</td>\n",
       "      <td>-1</td>\n",
       "      <td>2010-06-28 12:37:00</td>\n",
       "      <td>1.25</td>\n",
       "      <td>12472.0</td>\n",
       "      <td>Germany</td>\n",
       "    </tr>\n",
       "    <tr>\n",
       "      <th>198330</th>\n",
       "      <td>C513944</td>\n",
       "      <td>79323P</td>\n",
       "      <td>PINK CHERRY LIGHTS</td>\n",
       "      <td>-1</td>\n",
       "      <td>2010-06-29 13:14:00</td>\n",
       "      <td>6.75</td>\n",
       "      <td>16858.0</td>\n",
       "      <td>United Kingdom</td>\n",
       "    </tr>\n",
       "    <tr>\n",
       "      <th>417355</th>\n",
       "      <td>C538164</td>\n",
       "      <td>35004B</td>\n",
       "      <td>SET OF 3 BLACK FLYING DUCKS</td>\n",
       "      <td>-1</td>\n",
       "      <td>2010-12-09 17:32:00</td>\n",
       "      <td>1.95</td>\n",
       "      <td>14031.0</td>\n",
       "      <td>United Kingdom</td>\n",
       "    </tr>\n",
       "  </tbody>\n",
       "</table>\n",
       "<p>9839 rows × 8 columns</p>\n",
       "</div>"
      ],
      "text/plain": [
       "        Invoice StockCode                          Description  Quantity  \\\n",
       "405833  C536757     84347  ROTATING SILVER ANGELS T-LIGHT HLDR     -9360   \n",
       "285558  C524235     21088         SET/6 FRUIT SALAD PAPER CUPS     -7128   \n",
       "285559  C524235     21096      SET/6 FRUIT SALAD  PAPER PLATES     -7008   \n",
       "285519  C524235     16047              POP ART PEN CASE & PENS     -5184   \n",
       "285525  C524235     37340        MULTICOLOUR SPRING FLOWER MUG     -4992   \n",
       "...         ...       ...                                  ...       ...   \n",
       "31324   C493191     21034         REX CASH+CARRY JUMBO SHOPPER        -1   \n",
       "31351   C493259     85047  WHITE BEADED GARLAND STRING 20LIGHT        -1   \n",
       "196811  C513749     21746         SMALL RED RETROSPOT WINDMILL        -1   \n",
       "198330  C513944    79323P                   PINK CHERRY LIGHTS        -1   \n",
       "417355  C538164    35004B          SET OF 3 BLACK FLYING DUCKS        -1   \n",
       "\n",
       "               InvoiceDate  Price  Customer ID         Country  \n",
       "405833 2010-12-02 14:23:00   0.03      15838.0  United Kingdom  \n",
       "285558 2010-09-28 11:02:00   0.08      14277.0          France  \n",
       "285559 2010-09-28 11:02:00   0.13      14277.0          France  \n",
       "285519 2010-09-28 11:02:00   0.08      14277.0          France  \n",
       "285525 2010-09-28 11:02:00   0.10      14277.0          France  \n",
       "...                    ...    ...          ...             ...  \n",
       "31324  2009-12-22 13:13:00   0.95      15581.0  United Kingdom  \n",
       "31351  2009-12-22 14:25:00   6.35      17632.0  United Kingdom  \n",
       "196811 2010-06-28 12:37:00   1.25      12472.0         Germany  \n",
       "198330 2010-06-29 13:14:00   6.75      16858.0  United Kingdom  \n",
       "417355 2010-12-09 17:32:00   1.95      14031.0  United Kingdom  \n",
       "\n",
       "[9839 rows x 8 columns]"
      ]
     },
     "execution_count": 13,
     "metadata": {},
     "output_type": "execute_result"
    }
   ],
   "source": [
    "# Investigating negative values\n",
    "# Check for Quantity as there are negative values\n",
    "\n",
    "df[df['Quantity']<=0].sort_values('Quantity')"
   ]
  },
  {
   "cell_type": "code",
   "execution_count": 14,
   "id": "991eedbf",
   "metadata": {},
   "outputs": [
    {
     "data": {
      "text/html": [
       "<div>\n",
       "<style scoped>\n",
       "    .dataframe tbody tr th:only-of-type {\n",
       "        vertical-align: middle;\n",
       "    }\n",
       "\n",
       "    .dataframe tbody tr th {\n",
       "        vertical-align: top;\n",
       "    }\n",
       "\n",
       "    .dataframe thead th {\n",
       "        text-align: right;\n",
       "    }\n",
       "</style>\n",
       "<table border=\"1\" class=\"dataframe\">\n",
       "  <thead>\n",
       "    <tr style=\"text-align: right;\">\n",
       "      <th></th>\n",
       "      <th>Invoice</th>\n",
       "      <th>StockCode</th>\n",
       "      <th>Description</th>\n",
       "      <th>Quantity</th>\n",
       "      <th>InvoiceDate</th>\n",
       "      <th>Price</th>\n",
       "      <th>Customer ID</th>\n",
       "      <th>Country</th>\n",
       "    </tr>\n",
       "  </thead>\n",
       "  <tbody>\n",
       "    <tr>\n",
       "      <th>3754</th>\n",
       "      <td>489825</td>\n",
       "      <td>22076</td>\n",
       "      <td>6 RIBBONS EMPIRE</td>\n",
       "      <td>12</td>\n",
       "      <td>2009-12-02 13:34:00</td>\n",
       "      <td>0.0</td>\n",
       "      <td>16126.0</td>\n",
       "      <td>United Kingdom</td>\n",
       "    </tr>\n",
       "    <tr>\n",
       "      <th>378036</th>\n",
       "      <td>533822</td>\n",
       "      <td>22846</td>\n",
       "      <td>BREAD BIN DINER STYLE RED</td>\n",
       "      <td>1</td>\n",
       "      <td>2010-11-19 09:40:00</td>\n",
       "      <td>0.0</td>\n",
       "      <td>12647.0</td>\n",
       "      <td>Germany</td>\n",
       "    </tr>\n",
       "    <tr>\n",
       "      <th>364355</th>\n",
       "      <td>532470</td>\n",
       "      <td>22624</td>\n",
       "      <td>IVORY KITCHEN SCALES</td>\n",
       "      <td>2</td>\n",
       "      <td>2010-11-12 11:41:00</td>\n",
       "      <td>0.0</td>\n",
       "      <td>12647.0</td>\n",
       "      <td>Germany</td>\n",
       "    </tr>\n",
       "    <tr>\n",
       "      <th>352938</th>\n",
       "      <td>531361</td>\n",
       "      <td>21843</td>\n",
       "      <td>RED RETROSPOT CAKE STAND</td>\n",
       "      <td>2</td>\n",
       "      <td>2010-11-07 14:26:00</td>\n",
       "      <td>0.0</td>\n",
       "      <td>12820.0</td>\n",
       "      <td>United Kingdom</td>\n",
       "    </tr>\n",
       "    <tr>\n",
       "      <th>320207</th>\n",
       "      <td>527696</td>\n",
       "      <td>22121</td>\n",
       "      <td>NOEL WOODEN BLOCK LETTERS</td>\n",
       "      <td>1</td>\n",
       "      <td>2010-10-18 15:13:00</td>\n",
       "      <td>0.0</td>\n",
       "      <td>13554.0</td>\n",
       "      <td>United Kingdom</td>\n",
       "    </tr>\n",
       "    <tr>\n",
       "      <th>313268</th>\n",
       "      <td>527084</td>\n",
       "      <td>22630</td>\n",
       "      <td>DOLLY GIRL LUNCH BOX</td>\n",
       "      <td>64</td>\n",
       "      <td>2010-10-14 15:33:00</td>\n",
       "      <td>0.0</td>\n",
       "      <td>14646.0</td>\n",
       "      <td>Netherlands</td>\n",
       "    </tr>\n",
       "    <tr>\n",
       "      <th>289479</th>\n",
       "      <td>524701</td>\n",
       "      <td>22218</td>\n",
       "      <td>CAKE STAND LACE WHITE</td>\n",
       "      <td>2</td>\n",
       "      <td>2010-09-30 12:19:00</td>\n",
       "      <td>0.0</td>\n",
       "      <td>17667.0</td>\n",
       "      <td>United Kingdom</td>\n",
       "    </tr>\n",
       "    <tr>\n",
       "      <th>284923</th>\n",
       "      <td>524181</td>\n",
       "      <td>46000M</td>\n",
       "      <td>POLYESTER FILLER PAD 45x45cm</td>\n",
       "      <td>648</td>\n",
       "      <td>2010-09-27 16:59:00</td>\n",
       "      <td>0.0</td>\n",
       "      <td>17450.0</td>\n",
       "      <td>United Kingdom</td>\n",
       "    </tr>\n",
       "    <tr>\n",
       "      <th>258429</th>\n",
       "      <td>521375</td>\n",
       "      <td>22202</td>\n",
       "      <td>MILK PAN PINK RETROSPOT</td>\n",
       "      <td>3</td>\n",
       "      <td>2010-09-05 11:58:00</td>\n",
       "      <td>0.0</td>\n",
       "      <td>12647.0</td>\n",
       "      <td>Germany</td>\n",
       "    </tr>\n",
       "    <tr>\n",
       "      <th>233239</th>\n",
       "      <td>518231</td>\n",
       "      <td>22472</td>\n",
       "      <td>TV DINNER TRAY DOLLY GIRL</td>\n",
       "      <td>9</td>\n",
       "      <td>2010-08-05 15:28:00</td>\n",
       "      <td>0.0</td>\n",
       "      <td>12471.0</td>\n",
       "      <td>Germany</td>\n",
       "    </tr>\n",
       "    <tr>\n",
       "      <th>216936</th>\n",
       "      <td>516304</td>\n",
       "      <td>22690</td>\n",
       "      <td>DOORMAT HOME SWEET HOME BLUE</td>\n",
       "      <td>6</td>\n",
       "      <td>2010-07-19 13:13:00</td>\n",
       "      <td>0.0</td>\n",
       "      <td>14025.0</td>\n",
       "      <td>United Kingdom</td>\n",
       "    </tr>\n",
       "    <tr>\n",
       "      <th>193807</th>\n",
       "      <td>513416</td>\n",
       "      <td>22423</td>\n",
       "      <td>REGENCY CAKESTAND 3 TIER</td>\n",
       "      <td>5</td>\n",
       "      <td>2010-06-24 12:34:00</td>\n",
       "      <td>0.0</td>\n",
       "      <td>13089.0</td>\n",
       "      <td>United Kingdom</td>\n",
       "    </tr>\n",
       "    <tr>\n",
       "      <th>187631</th>\n",
       "      <td>512609</td>\n",
       "      <td>20914</td>\n",
       "      <td>SET/5 RED SPOTTY LID GLASS BOWLS</td>\n",
       "      <td>2</td>\n",
       "      <td>2010-06-17 10:12:00</td>\n",
       "      <td>0.0</td>\n",
       "      <td>14045.0</td>\n",
       "      <td>United Kingdom</td>\n",
       "    </tr>\n",
       "    <tr>\n",
       "      <th>180938</th>\n",
       "      <td>511902</td>\n",
       "      <td>21765</td>\n",
       "      <td>HANGING METAL BIRD BATH</td>\n",
       "      <td>1</td>\n",
       "      <td>2010-06-11 11:12:00</td>\n",
       "      <td>0.0</td>\n",
       "      <td>12748.0</td>\n",
       "      <td>United Kingdom</td>\n",
       "    </tr>\n",
       "    <tr>\n",
       "      <th>378037</th>\n",
       "      <td>533822</td>\n",
       "      <td>22845</td>\n",
       "      <td>VINTAGE CREAM CAT FOOD CONTAINER</td>\n",
       "      <td>1</td>\n",
       "      <td>2010-11-19 09:40:00</td>\n",
       "      <td>0.0</td>\n",
       "      <td>12647.0</td>\n",
       "      <td>Germany</td>\n",
       "    </tr>\n",
       "    <tr>\n",
       "      <th>126121</th>\n",
       "      <td>505083</td>\n",
       "      <td>22376</td>\n",
       "      <td>AIRLINE BAG VINTAGE JET SET WHITE</td>\n",
       "      <td>1</td>\n",
       "      <td>2010-04-20 09:56:00</td>\n",
       "      <td>0.0</td>\n",
       "      <td>12623.0</td>\n",
       "      <td>Germany</td>\n",
       "    </tr>\n",
       "    <tr>\n",
       "      <th>112480</th>\n",
       "      <td>503585</td>\n",
       "      <td>22459</td>\n",
       "      <td>CAST IRON HOOK GARDEN TROWEL</td>\n",
       "      <td>8</td>\n",
       "      <td>2010-04-01 17:13:00</td>\n",
       "      <td>0.0</td>\n",
       "      <td>13047.0</td>\n",
       "      <td>United Kingdom</td>\n",
       "    </tr>\n",
       "    <tr>\n",
       "      <th>82314</th>\n",
       "      <td>500073</td>\n",
       "      <td>21662</td>\n",
       "      <td>VINTAGE GLASS COFFEE CADDY</td>\n",
       "      <td>1</td>\n",
       "      <td>2010-03-04 11:44:00</td>\n",
       "      <td>0.0</td>\n",
       "      <td>13047.0</td>\n",
       "      <td>United Kingdom</td>\n",
       "    </tr>\n",
       "    <tr>\n",
       "      <th>63968</th>\n",
       "      <td>497843</td>\n",
       "      <td>TEST001</td>\n",
       "      <td>This is a test product.</td>\n",
       "      <td>5</td>\n",
       "      <td>2010-02-12 15:47:00</td>\n",
       "      <td>0.0</td>\n",
       "      <td>14827.0</td>\n",
       "      <td>United Kingdom</td>\n",
       "    </tr>\n",
       "    <tr>\n",
       "      <th>63878</th>\n",
       "      <td>497819</td>\n",
       "      <td>TEST001</td>\n",
       "      <td>This is a test product.</td>\n",
       "      <td>5</td>\n",
       "      <td>2010-02-12 14:58:00</td>\n",
       "      <td>0.0</td>\n",
       "      <td>14103.0</td>\n",
       "      <td>United Kingdom</td>\n",
       "    </tr>\n",
       "    <tr>\n",
       "      <th>39665</th>\n",
       "      <td>494607</td>\n",
       "      <td>21533</td>\n",
       "      <td>RETRO SPOT LARGE MILK JUG</td>\n",
       "      <td>12</td>\n",
       "      <td>2010-01-15 12:43:00</td>\n",
       "      <td>0.0</td>\n",
       "      <td>16858.0</td>\n",
       "      <td>United Kingdom</td>\n",
       "    </tr>\n",
       "    <tr>\n",
       "      <th>34802</th>\n",
       "      <td>493899</td>\n",
       "      <td>22355</td>\n",
       "      <td>CHARLOTTE BAG , SUKI DESIGN</td>\n",
       "      <td>10</td>\n",
       "      <td>2010-01-08 10:43:00</td>\n",
       "      <td>0.0</td>\n",
       "      <td>12417.0</td>\n",
       "      <td>Belgium</td>\n",
       "    </tr>\n",
       "    <tr>\n",
       "      <th>33605</th>\n",
       "      <td>493761</td>\n",
       "      <td>79320</td>\n",
       "      <td>FLAMINGO LIGHTS</td>\n",
       "      <td>24</td>\n",
       "      <td>2010-01-06 14:54:00</td>\n",
       "      <td>0.0</td>\n",
       "      <td>14258.0</td>\n",
       "      <td>United Kingdom</td>\n",
       "    </tr>\n",
       "    <tr>\n",
       "      <th>29570</th>\n",
       "      <td>492760</td>\n",
       "      <td>21143</td>\n",
       "      <td>ANTIQUE GLASS HEART DECORATION</td>\n",
       "      <td>12</td>\n",
       "      <td>2009-12-18 14:22:00</td>\n",
       "      <td>0.0</td>\n",
       "      <td>18071.0</td>\n",
       "      <td>United Kingdom</td>\n",
       "    </tr>\n",
       "    <tr>\n",
       "      <th>24546</th>\n",
       "      <td>492079</td>\n",
       "      <td>85042</td>\n",
       "      <td>ANTIQUE LILY FAIRY LIGHTS</td>\n",
       "      <td>8</td>\n",
       "      <td>2009-12-15 13:49:00</td>\n",
       "      <td>0.0</td>\n",
       "      <td>15070.0</td>\n",
       "      <td>United Kingdom</td>\n",
       "    </tr>\n",
       "    <tr>\n",
       "      <th>14559</th>\n",
       "      <td>490961</td>\n",
       "      <td>22142</td>\n",
       "      <td>CHRISTMAS CRAFT WHITE FAIRY</td>\n",
       "      <td>12</td>\n",
       "      <td>2009-12-08 15:25:00</td>\n",
       "      <td>0.0</td>\n",
       "      <td>14108.0</td>\n",
       "      <td>United Kingdom</td>\n",
       "    </tr>\n",
       "    <tr>\n",
       "      <th>14558</th>\n",
       "      <td>490961</td>\n",
       "      <td>22065</td>\n",
       "      <td>CHRISTMAS PUDDING TRINKET POT</td>\n",
       "      <td>1</td>\n",
       "      <td>2009-12-08 15:25:00</td>\n",
       "      <td>0.0</td>\n",
       "      <td>14108.0</td>\n",
       "      <td>United Kingdom</td>\n",
       "    </tr>\n",
       "    <tr>\n",
       "      <th>12998</th>\n",
       "      <td>490727</td>\n",
       "      <td>M</td>\n",
       "      <td>Manual</td>\n",
       "      <td>1</td>\n",
       "      <td>2009-12-07 16:38:00</td>\n",
       "      <td>0.0</td>\n",
       "      <td>17231.0</td>\n",
       "      <td>United Kingdom</td>\n",
       "    </tr>\n",
       "    <tr>\n",
       "      <th>4889</th>\n",
       "      <td>489998</td>\n",
       "      <td>48185</td>\n",
       "      <td>DOOR MAT FAIRY CAKE</td>\n",
       "      <td>2</td>\n",
       "      <td>2009-12-03 11:19:00</td>\n",
       "      <td>0.0</td>\n",
       "      <td>15658.0</td>\n",
       "      <td>United Kingdom</td>\n",
       "    </tr>\n",
       "    <tr>\n",
       "      <th>112481</th>\n",
       "      <td>503585</td>\n",
       "      <td>22458</td>\n",
       "      <td>CAST IRON HOOK GARDEN FORK</td>\n",
       "      <td>8</td>\n",
       "      <td>2010-04-01 17:13:00</td>\n",
       "      <td>0.0</td>\n",
       "      <td>13047.0</td>\n",
       "      <td>United Kingdom</td>\n",
       "    </tr>\n",
       "    <tr>\n",
       "      <th>409743</th>\n",
       "      <td>537197</td>\n",
       "      <td>22841</td>\n",
       "      <td>ROUND CAKE TIN VINTAGE GREEN</td>\n",
       "      <td>1</td>\n",
       "      <td>2010-12-05 14:02:00</td>\n",
       "      <td>0.0</td>\n",
       "      <td>12647.0</td>\n",
       "      <td>Germany</td>\n",
       "    </tr>\n",
       "  </tbody>\n",
       "</table>\n",
       "</div>"
      ],
      "text/plain": [
       "       Invoice StockCode                        Description  Quantity  \\\n",
       "3754    489825     22076                 6 RIBBONS EMPIRE          12   \n",
       "378036  533822     22846         BREAD BIN DINER STYLE RED          1   \n",
       "364355  532470     22624               IVORY KITCHEN SCALES         2   \n",
       "352938  531361     21843           RED RETROSPOT CAKE STAND         2   \n",
       "320207  527696     22121         NOEL WOODEN BLOCK LETTERS          1   \n",
       "313268  527084     22630               DOLLY GIRL LUNCH BOX        64   \n",
       "289479  524701     22218              CAKE STAND LACE WHITE         2   \n",
       "284923  524181    46000M       POLYESTER FILLER PAD 45x45cm       648   \n",
       "258429  521375     22202            MILK PAN PINK RETROSPOT         3   \n",
       "233239  518231     22472          TV DINNER TRAY DOLLY GIRL         9   \n",
       "216936  516304     22690      DOORMAT HOME SWEET HOME BLUE          6   \n",
       "193807  513416     22423           REGENCY CAKESTAND 3 TIER         5   \n",
       "187631  512609     20914   SET/5 RED SPOTTY LID GLASS BOWLS         2   \n",
       "180938  511902     21765            HANGING METAL BIRD BATH         1   \n",
       "378037  533822     22845   VINTAGE CREAM CAT FOOD CONTAINER         1   \n",
       "126121  505083     22376  AIRLINE BAG VINTAGE JET SET WHITE         1   \n",
       "112480  503585     22459       CAST IRON HOOK GARDEN TROWEL         8   \n",
       "82314   500073     21662         VINTAGE GLASS COFFEE CADDY         1   \n",
       "63968   497843   TEST001            This is a test product.         5   \n",
       "63878   497819   TEST001            This is a test product.         5   \n",
       "39665   494607     21533          RETRO SPOT LARGE MILK JUG        12   \n",
       "34802   493899     22355        CHARLOTTE BAG , SUKI DESIGN        10   \n",
       "33605   493761     79320                    FLAMINGO LIGHTS        24   \n",
       "29570   492760     21143    ANTIQUE GLASS HEART DECORATION         12   \n",
       "24546   492079     85042          ANTIQUE LILY FAIRY LIGHTS         8   \n",
       "14559   490961     22142       CHRISTMAS CRAFT WHITE FAIRY         12   \n",
       "14558   490961     22065     CHRISTMAS PUDDING TRINKET POT          1   \n",
       "12998   490727         M                             Manual         1   \n",
       "4889    489998     48185                DOOR MAT FAIRY CAKE         2   \n",
       "112481  503585     22458         CAST IRON HOOK GARDEN FORK         8   \n",
       "409743  537197     22841       ROUND CAKE TIN VINTAGE GREEN         1   \n",
       "\n",
       "               InvoiceDate  Price  Customer ID         Country  \n",
       "3754   2009-12-02 13:34:00    0.0      16126.0  United Kingdom  \n",
       "378036 2010-11-19 09:40:00    0.0      12647.0         Germany  \n",
       "364355 2010-11-12 11:41:00    0.0      12647.0         Germany  \n",
       "352938 2010-11-07 14:26:00    0.0      12820.0  United Kingdom  \n",
       "320207 2010-10-18 15:13:00    0.0      13554.0  United Kingdom  \n",
       "313268 2010-10-14 15:33:00    0.0      14646.0     Netherlands  \n",
       "289479 2010-09-30 12:19:00    0.0      17667.0  United Kingdom  \n",
       "284923 2010-09-27 16:59:00    0.0      17450.0  United Kingdom  \n",
       "258429 2010-09-05 11:58:00    0.0      12647.0         Germany  \n",
       "233239 2010-08-05 15:28:00    0.0      12471.0         Germany  \n",
       "216936 2010-07-19 13:13:00    0.0      14025.0  United Kingdom  \n",
       "193807 2010-06-24 12:34:00    0.0      13089.0  United Kingdom  \n",
       "187631 2010-06-17 10:12:00    0.0      14045.0  United Kingdom  \n",
       "180938 2010-06-11 11:12:00    0.0      12748.0  United Kingdom  \n",
       "378037 2010-11-19 09:40:00    0.0      12647.0         Germany  \n",
       "126121 2010-04-20 09:56:00    0.0      12623.0         Germany  \n",
       "112480 2010-04-01 17:13:00    0.0      13047.0  United Kingdom  \n",
       "82314  2010-03-04 11:44:00    0.0      13047.0  United Kingdom  \n",
       "63968  2010-02-12 15:47:00    0.0      14827.0  United Kingdom  \n",
       "63878  2010-02-12 14:58:00    0.0      14103.0  United Kingdom  \n",
       "39665  2010-01-15 12:43:00    0.0      16858.0  United Kingdom  \n",
       "34802  2010-01-08 10:43:00    0.0      12417.0         Belgium  \n",
       "33605  2010-01-06 14:54:00    0.0      14258.0  United Kingdom  \n",
       "29570  2009-12-18 14:22:00    0.0      18071.0  United Kingdom  \n",
       "24546  2009-12-15 13:49:00    0.0      15070.0  United Kingdom  \n",
       "14559  2009-12-08 15:25:00    0.0      14108.0  United Kingdom  \n",
       "14558  2009-12-08 15:25:00    0.0      14108.0  United Kingdom  \n",
       "12998  2009-12-07 16:38:00    0.0      17231.0  United Kingdom  \n",
       "4889   2009-12-03 11:19:00    0.0      15658.0  United Kingdom  \n",
       "112481 2010-04-01 17:13:00    0.0      13047.0  United Kingdom  \n",
       "409743 2010-12-05 14:02:00    0.0      12647.0         Germany  "
      ]
     },
     "execution_count": 14,
     "metadata": {},
     "output_type": "execute_result"
    }
   ],
   "source": [
    "# Check for Price as there are negative values\n",
    "df[df['Price']<=0].sort_values('Price')"
   ]
  },
  {
   "cell_type": "code",
   "execution_count": 18,
   "id": "55ca6bf0",
   "metadata": {},
   "outputs": [],
   "source": [
    "# Dropping Invoices that begin with 'C' as they are for cancelled orders\n",
    "# Dropping the negative quantities and negative price rows\n",
    "\n",
    "df['Invoice'] = df['Invoice'].astype('str') # Converting Invoice as a string type from a float type object\n",
    "df = df[~df[\"Invoice\"].str.contains('C')]\n",
    "df = df[df['Quantity'] > 0]\n",
    "df = df[df['Price'] > 0]"
   ]
  },
  {
   "cell_type": "code",
   "execution_count": 19,
   "id": "40a9f3cb",
   "metadata": {},
   "outputs": [
    {
     "data": {
      "text/html": [
       "<div>\n",
       "<style scoped>\n",
       "    .dataframe tbody tr th:only-of-type {\n",
       "        vertical-align: middle;\n",
       "    }\n",
       "\n",
       "    .dataframe tbody tr th {\n",
       "        vertical-align: top;\n",
       "    }\n",
       "\n",
       "    .dataframe thead th {\n",
       "        text-align: right;\n",
       "    }\n",
       "</style>\n",
       "<table border=\"1\" class=\"dataframe\">\n",
       "  <thead>\n",
       "    <tr style=\"text-align: right;\">\n",
       "      <th></th>\n",
       "      <th>Quantity</th>\n",
       "      <th>Price</th>\n",
       "      <th>Customer ID</th>\n",
       "    </tr>\n",
       "  </thead>\n",
       "  <tbody>\n",
       "    <tr>\n",
       "      <th>count</th>\n",
       "      <td>407664.000000</td>\n",
       "      <td>407664.000000</td>\n",
       "      <td>407664.000000</td>\n",
       "    </tr>\n",
       "    <tr>\n",
       "      <th>mean</th>\n",
       "      <td>13.585585</td>\n",
       "      <td>3.294438</td>\n",
       "      <td>15368.592598</td>\n",
       "    </tr>\n",
       "    <tr>\n",
       "      <th>std</th>\n",
       "      <td>96.840747</td>\n",
       "      <td>34.757965</td>\n",
       "      <td>1679.762138</td>\n",
       "    </tr>\n",
       "    <tr>\n",
       "      <th>min</th>\n",
       "      <td>1.000000</td>\n",
       "      <td>0.001000</td>\n",
       "      <td>12346.000000</td>\n",
       "    </tr>\n",
       "    <tr>\n",
       "      <th>25%</th>\n",
       "      <td>2.000000</td>\n",
       "      <td>1.250000</td>\n",
       "      <td>13997.000000</td>\n",
       "    </tr>\n",
       "    <tr>\n",
       "      <th>50%</th>\n",
       "      <td>5.000000</td>\n",
       "      <td>1.950000</td>\n",
       "      <td>15321.000000</td>\n",
       "    </tr>\n",
       "    <tr>\n",
       "      <th>75%</th>\n",
       "      <td>12.000000</td>\n",
       "      <td>3.750000</td>\n",
       "      <td>16812.000000</td>\n",
       "    </tr>\n",
       "    <tr>\n",
       "      <th>max</th>\n",
       "      <td>19152.000000</td>\n",
       "      <td>10953.500000</td>\n",
       "      <td>18287.000000</td>\n",
       "    </tr>\n",
       "  </tbody>\n",
       "</table>\n",
       "</div>"
      ],
      "text/plain": [
       "            Quantity          Price    Customer ID\n",
       "count  407664.000000  407664.000000  407664.000000\n",
       "mean       13.585585       3.294438   15368.592598\n",
       "std        96.840747      34.757965    1679.762138\n",
       "min         1.000000       0.001000   12346.000000\n",
       "25%         2.000000       1.250000   13997.000000\n",
       "50%         5.000000       1.950000   15321.000000\n",
       "75%        12.000000       3.750000   16812.000000\n",
       "max     19152.000000   10953.500000   18287.000000"
      ]
     },
     "execution_count": 19,
     "metadata": {},
     "output_type": "execute_result"
    }
   ],
   "source": [
    "df.describe()"
   ]
  },
  {
   "cell_type": "code",
   "execution_count": 20,
   "id": "8b8728a7",
   "metadata": {},
   "outputs": [],
   "source": [
    "# Including the rows where Price is greater than or equal to British Pence 25 (0.25)\n",
    "# Price of 0.001 does not make sense \n",
    "\n",
    "df = df[df['Price'] >= 0.25]"
   ]
  },
  {
   "cell_type": "code",
   "execution_count": 21,
   "id": "2547f7b0",
   "metadata": {},
   "outputs": [
    {
     "data": {
      "text/html": [
       "<div>\n",
       "<style scoped>\n",
       "    .dataframe tbody tr th:only-of-type {\n",
       "        vertical-align: middle;\n",
       "    }\n",
       "\n",
       "    .dataframe tbody tr th {\n",
       "        vertical-align: top;\n",
       "    }\n",
       "\n",
       "    .dataframe thead th {\n",
       "        text-align: right;\n",
       "    }\n",
       "</style>\n",
       "<table border=\"1\" class=\"dataframe\">\n",
       "  <thead>\n",
       "    <tr style=\"text-align: right;\">\n",
       "      <th></th>\n",
       "      <th>invoice</th>\n",
       "      <th>stock_code</th>\n",
       "      <th>description</th>\n",
       "      <th>quantity</th>\n",
       "      <th>invoice_date</th>\n",
       "      <th>price</th>\n",
       "      <th>customer_id</th>\n",
       "      <th>country</th>\n",
       "    </tr>\n",
       "  </thead>\n",
       "  <tbody>\n",
       "    <tr>\n",
       "      <th>0</th>\n",
       "      <td>489434</td>\n",
       "      <td>85048</td>\n",
       "      <td>15CM CHRISTMAS GLASS BALL 20 LIGHTS</td>\n",
       "      <td>12</td>\n",
       "      <td>2009-12-01 07:45:00</td>\n",
       "      <td>6.95</td>\n",
       "      <td>13085.0</td>\n",
       "      <td>United Kingdom</td>\n",
       "    </tr>\n",
       "    <tr>\n",
       "      <th>1</th>\n",
       "      <td>489434</td>\n",
       "      <td>79323P</td>\n",
       "      <td>PINK CHERRY LIGHTS</td>\n",
       "      <td>12</td>\n",
       "      <td>2009-12-01 07:45:00</td>\n",
       "      <td>6.75</td>\n",
       "      <td>13085.0</td>\n",
       "      <td>United Kingdom</td>\n",
       "    </tr>\n",
       "    <tr>\n",
       "      <th>2</th>\n",
       "      <td>489434</td>\n",
       "      <td>79323W</td>\n",
       "      <td>WHITE CHERRY LIGHTS</td>\n",
       "      <td>12</td>\n",
       "      <td>2009-12-01 07:45:00</td>\n",
       "      <td>6.75</td>\n",
       "      <td>13085.0</td>\n",
       "      <td>United Kingdom</td>\n",
       "    </tr>\n",
       "    <tr>\n",
       "      <th>3</th>\n",
       "      <td>489434</td>\n",
       "      <td>22041</td>\n",
       "      <td>RECORD FRAME 7\" SINGLE SIZE</td>\n",
       "      <td>48</td>\n",
       "      <td>2009-12-01 07:45:00</td>\n",
       "      <td>2.10</td>\n",
       "      <td>13085.0</td>\n",
       "      <td>United Kingdom</td>\n",
       "    </tr>\n",
       "    <tr>\n",
       "      <th>4</th>\n",
       "      <td>489434</td>\n",
       "      <td>21232</td>\n",
       "      <td>STRAWBERRY CERAMIC TRINKET BOX</td>\n",
       "      <td>24</td>\n",
       "      <td>2009-12-01 07:45:00</td>\n",
       "      <td>1.25</td>\n",
       "      <td>13085.0</td>\n",
       "      <td>United Kingdom</td>\n",
       "    </tr>\n",
       "    <tr>\n",
       "      <th>...</th>\n",
       "      <td>...</td>\n",
       "      <td>...</td>\n",
       "      <td>...</td>\n",
       "      <td>...</td>\n",
       "      <td>...</td>\n",
       "      <td>...</td>\n",
       "      <td>...</td>\n",
       "      <td>...</td>\n",
       "    </tr>\n",
       "    <tr>\n",
       "      <th>417529</th>\n",
       "      <td>538171</td>\n",
       "      <td>22271</td>\n",
       "      <td>FELTCRAFT DOLL ROSIE</td>\n",
       "      <td>2</td>\n",
       "      <td>2010-12-09 20:01:00</td>\n",
       "      <td>2.95</td>\n",
       "      <td>17530.0</td>\n",
       "      <td>United Kingdom</td>\n",
       "    </tr>\n",
       "    <tr>\n",
       "      <th>417530</th>\n",
       "      <td>538171</td>\n",
       "      <td>22750</td>\n",
       "      <td>FELTCRAFT PRINCESS LOLA DOLL</td>\n",
       "      <td>1</td>\n",
       "      <td>2010-12-09 20:01:00</td>\n",
       "      <td>3.75</td>\n",
       "      <td>17530.0</td>\n",
       "      <td>United Kingdom</td>\n",
       "    </tr>\n",
       "    <tr>\n",
       "      <th>417531</th>\n",
       "      <td>538171</td>\n",
       "      <td>22751</td>\n",
       "      <td>FELTCRAFT PRINCESS OLIVIA DOLL</td>\n",
       "      <td>1</td>\n",
       "      <td>2010-12-09 20:01:00</td>\n",
       "      <td>3.75</td>\n",
       "      <td>17530.0</td>\n",
       "      <td>United Kingdom</td>\n",
       "    </tr>\n",
       "    <tr>\n",
       "      <th>417532</th>\n",
       "      <td>538171</td>\n",
       "      <td>20970</td>\n",
       "      <td>PINK FLORAL FELTCRAFT SHOULDER BAG</td>\n",
       "      <td>2</td>\n",
       "      <td>2010-12-09 20:01:00</td>\n",
       "      <td>3.75</td>\n",
       "      <td>17530.0</td>\n",
       "      <td>United Kingdom</td>\n",
       "    </tr>\n",
       "    <tr>\n",
       "      <th>417533</th>\n",
       "      <td>538171</td>\n",
       "      <td>21931</td>\n",
       "      <td>JUMBO STORAGE BAG SUKI</td>\n",
       "      <td>2</td>\n",
       "      <td>2010-12-09 20:01:00</td>\n",
       "      <td>1.95</td>\n",
       "      <td>17530.0</td>\n",
       "      <td>United Kingdom</td>\n",
       "    </tr>\n",
       "  </tbody>\n",
       "</table>\n",
       "<p>404372 rows × 8 columns</p>\n",
       "</div>"
      ],
      "text/plain": [
       "       invoice stock_code                          description  quantity  \\\n",
       "0       489434      85048  15CM CHRISTMAS GLASS BALL 20 LIGHTS        12   \n",
       "1       489434     79323P                   PINK CHERRY LIGHTS        12   \n",
       "2       489434     79323W                  WHITE CHERRY LIGHTS        12   \n",
       "3       489434      22041         RECORD FRAME 7\" SINGLE SIZE         48   \n",
       "4       489434      21232       STRAWBERRY CERAMIC TRINKET BOX        24   \n",
       "...        ...        ...                                  ...       ...   \n",
       "417529  538171      22271                 FELTCRAFT DOLL ROSIE         2   \n",
       "417530  538171      22750         FELTCRAFT PRINCESS LOLA DOLL         1   \n",
       "417531  538171      22751       FELTCRAFT PRINCESS OLIVIA DOLL         1   \n",
       "417532  538171      20970   PINK FLORAL FELTCRAFT SHOULDER BAG         2   \n",
       "417533  538171      21931               JUMBO STORAGE BAG SUKI         2   \n",
       "\n",
       "              invoice_date  price  customer_id         country  \n",
       "0      2009-12-01 07:45:00   6.95      13085.0  United Kingdom  \n",
       "1      2009-12-01 07:45:00   6.75      13085.0  United Kingdom  \n",
       "2      2009-12-01 07:45:00   6.75      13085.0  United Kingdom  \n",
       "3      2009-12-01 07:45:00   2.10      13085.0  United Kingdom  \n",
       "4      2009-12-01 07:45:00   1.25      13085.0  United Kingdom  \n",
       "...                    ...    ...          ...             ...  \n",
       "417529 2010-12-09 20:01:00   2.95      17530.0  United Kingdom  \n",
       "417530 2010-12-09 20:01:00   3.75      17530.0  United Kingdom  \n",
       "417531 2010-12-09 20:01:00   3.75      17530.0  United Kingdom  \n",
       "417532 2010-12-09 20:01:00   3.75      17530.0  United Kingdom  \n",
       "417533 2010-12-09 20:01:00   1.95      17530.0  United Kingdom  \n",
       "\n",
       "[404372 rows x 8 columns]"
      ]
     },
     "execution_count": 21,
     "metadata": {},
     "output_type": "execute_result"
    }
   ],
   "source": [
    "# Renaming column names\n",
    "\n",
    "dict = {'Invoice':'invoice', \n",
    "        'StockCode': 'stock_code', \n",
    "        'Description': 'description', \n",
    "        'Quantity':'quantity', \n",
    "        'InvoiceDate':'invoice_date',\n",
    "        'Price': 'price',\n",
    "        'Customer ID':'customer_id', \n",
    "        'Country':'country'\n",
    "        }\n",
    "\n",
    "df = df.rename(columns=dict)\n",
    "\n",
    "df"
   ]
  },
  {
   "cell_type": "code",
   "execution_count": 103,
   "id": "33528656",
   "metadata": {},
   "outputs": [
    {
     "data": {
      "text/html": [
       "<div>\n",
       "<style scoped>\n",
       "    .dataframe tbody tr th:only-of-type {\n",
       "        vertical-align: middle;\n",
       "    }\n",
       "\n",
       "    .dataframe tbody tr th {\n",
       "        vertical-align: top;\n",
       "    }\n",
       "\n",
       "    .dataframe thead th {\n",
       "        text-align: right;\n",
       "    }\n",
       "</style>\n",
       "<table border=\"1\" class=\"dataframe\">\n",
       "  <thead>\n",
       "    <tr style=\"text-align: right;\">\n",
       "      <th></th>\n",
       "      <th>invoice</th>\n",
       "      <th>stock_code</th>\n",
       "      <th>description</th>\n",
       "      <th>quantity</th>\n",
       "      <th>invoice_date</th>\n",
       "      <th>price</th>\n",
       "      <th>customer_id</th>\n",
       "      <th>country</th>\n",
       "      <th>total_sales</th>\n",
       "      <th>year</th>\n",
       "      <th>month</th>\n",
       "      <th>day</th>\n",
       "      <th>hour</th>\n",
       "      <th>spend_category</th>\n",
       "      <th>cluster</th>\n",
       "    </tr>\n",
       "  </thead>\n",
       "  <tbody>\n",
       "    <tr>\n",
       "      <th>0</th>\n",
       "      <td>489434</td>\n",
       "      <td>85048</td>\n",
       "      <td>15CM CHRISTMAS GLASS BALL 20 LIGHTS</td>\n",
       "      <td>12</td>\n",
       "      <td>2009-12-01 07:45:00</td>\n",
       "      <td>6.95</td>\n",
       "      <td>13085.0</td>\n",
       "      <td>United Kingdom</td>\n",
       "      <td>83.40</td>\n",
       "      <td>2009</td>\n",
       "      <td>December</td>\n",
       "      <td>Tuesday</td>\n",
       "      <td>7</td>\n",
       "      <td>0</td>\n",
       "      <td>2</td>\n",
       "    </tr>\n",
       "    <tr>\n",
       "      <th>1</th>\n",
       "      <td>489434</td>\n",
       "      <td>79323P</td>\n",
       "      <td>PINK CHERRY LIGHTS</td>\n",
       "      <td>12</td>\n",
       "      <td>2009-12-01 07:45:00</td>\n",
       "      <td>6.75</td>\n",
       "      <td>13085.0</td>\n",
       "      <td>United Kingdom</td>\n",
       "      <td>81.00</td>\n",
       "      <td>2009</td>\n",
       "      <td>December</td>\n",
       "      <td>Tuesday</td>\n",
       "      <td>7</td>\n",
       "      <td>0</td>\n",
       "      <td>2</td>\n",
       "    </tr>\n",
       "    <tr>\n",
       "      <th>2</th>\n",
       "      <td>489434</td>\n",
       "      <td>79323W</td>\n",
       "      <td>WHITE CHERRY LIGHTS</td>\n",
       "      <td>12</td>\n",
       "      <td>2009-12-01 07:45:00</td>\n",
       "      <td>6.75</td>\n",
       "      <td>13085.0</td>\n",
       "      <td>United Kingdom</td>\n",
       "      <td>81.00</td>\n",
       "      <td>2009</td>\n",
       "      <td>December</td>\n",
       "      <td>Tuesday</td>\n",
       "      <td>7</td>\n",
       "      <td>0</td>\n",
       "      <td>2</td>\n",
       "    </tr>\n",
       "    <tr>\n",
       "      <th>3</th>\n",
       "      <td>489434</td>\n",
       "      <td>22041</td>\n",
       "      <td>RECORD FRAME 7\" SINGLE SIZE</td>\n",
       "      <td>48</td>\n",
       "      <td>2009-12-01 07:45:00</td>\n",
       "      <td>2.10</td>\n",
       "      <td>13085.0</td>\n",
       "      <td>United Kingdom</td>\n",
       "      <td>100.80</td>\n",
       "      <td>2009</td>\n",
       "      <td>December</td>\n",
       "      <td>Tuesday</td>\n",
       "      <td>7</td>\n",
       "      <td>0</td>\n",
       "      <td>2</td>\n",
       "    </tr>\n",
       "    <tr>\n",
       "      <th>4</th>\n",
       "      <td>489434</td>\n",
       "      <td>21232</td>\n",
       "      <td>STRAWBERRY CERAMIC TRINKET BOX</td>\n",
       "      <td>24</td>\n",
       "      <td>2009-12-01 07:45:00</td>\n",
       "      <td>1.25</td>\n",
       "      <td>13085.0</td>\n",
       "      <td>United Kingdom</td>\n",
       "      <td>30.00</td>\n",
       "      <td>2009</td>\n",
       "      <td>December</td>\n",
       "      <td>Tuesday</td>\n",
       "      <td>7</td>\n",
       "      <td>0</td>\n",
       "      <td>2</td>\n",
       "    </tr>\n",
       "    <tr>\n",
       "      <th>...</th>\n",
       "      <td>...</td>\n",
       "      <td>...</td>\n",
       "      <td>...</td>\n",
       "      <td>...</td>\n",
       "      <td>...</td>\n",
       "      <td>...</td>\n",
       "      <td>...</td>\n",
       "      <td>...</td>\n",
       "      <td>...</td>\n",
       "      <td>...</td>\n",
       "      <td>...</td>\n",
       "      <td>...</td>\n",
       "      <td>...</td>\n",
       "      <td>...</td>\n",
       "      <td>...</td>\n",
       "    </tr>\n",
       "    <tr>\n",
       "      <th>417529</th>\n",
       "      <td>538171</td>\n",
       "      <td>22271</td>\n",
       "      <td>FELTCRAFT DOLL ROSIE</td>\n",
       "      <td>2</td>\n",
       "      <td>2010-12-09 20:01:00</td>\n",
       "      <td>2.95</td>\n",
       "      <td>17530.0</td>\n",
       "      <td>United Kingdom</td>\n",
       "      <td>5.90</td>\n",
       "      <td>2010</td>\n",
       "      <td>December</td>\n",
       "      <td>Thursday</td>\n",
       "      <td>20</td>\n",
       "      <td>0</td>\n",
       "      <td>0</td>\n",
       "    </tr>\n",
       "    <tr>\n",
       "      <th>417530</th>\n",
       "      <td>538171</td>\n",
       "      <td>22750</td>\n",
       "      <td>FELTCRAFT PRINCESS LOLA DOLL</td>\n",
       "      <td>1</td>\n",
       "      <td>2010-12-09 20:01:00</td>\n",
       "      <td>3.75</td>\n",
       "      <td>17530.0</td>\n",
       "      <td>United Kingdom</td>\n",
       "      <td>3.75</td>\n",
       "      <td>2010</td>\n",
       "      <td>December</td>\n",
       "      <td>Thursday</td>\n",
       "      <td>20</td>\n",
       "      <td>0</td>\n",
       "      <td>0</td>\n",
       "    </tr>\n",
       "    <tr>\n",
       "      <th>417531</th>\n",
       "      <td>538171</td>\n",
       "      <td>22751</td>\n",
       "      <td>FELTCRAFT PRINCESS OLIVIA DOLL</td>\n",
       "      <td>1</td>\n",
       "      <td>2010-12-09 20:01:00</td>\n",
       "      <td>3.75</td>\n",
       "      <td>17530.0</td>\n",
       "      <td>United Kingdom</td>\n",
       "      <td>3.75</td>\n",
       "      <td>2010</td>\n",
       "      <td>December</td>\n",
       "      <td>Thursday</td>\n",
       "      <td>20</td>\n",
       "      <td>0</td>\n",
       "      <td>0</td>\n",
       "    </tr>\n",
       "    <tr>\n",
       "      <th>417532</th>\n",
       "      <td>538171</td>\n",
       "      <td>20970</td>\n",
       "      <td>PINK FLORAL FELTCRAFT SHOULDER BAG</td>\n",
       "      <td>2</td>\n",
       "      <td>2010-12-09 20:01:00</td>\n",
       "      <td>3.75</td>\n",
       "      <td>17530.0</td>\n",
       "      <td>United Kingdom</td>\n",
       "      <td>7.50</td>\n",
       "      <td>2010</td>\n",
       "      <td>December</td>\n",
       "      <td>Thursday</td>\n",
       "      <td>20</td>\n",
       "      <td>0</td>\n",
       "      <td>0</td>\n",
       "    </tr>\n",
       "    <tr>\n",
       "      <th>417533</th>\n",
       "      <td>538171</td>\n",
       "      <td>21931</td>\n",
       "      <td>JUMBO STORAGE BAG SUKI</td>\n",
       "      <td>2</td>\n",
       "      <td>2010-12-09 20:01:00</td>\n",
       "      <td>1.95</td>\n",
       "      <td>17530.0</td>\n",
       "      <td>United Kingdom</td>\n",
       "      <td>3.90</td>\n",
       "      <td>2010</td>\n",
       "      <td>December</td>\n",
       "      <td>Thursday</td>\n",
       "      <td>20</td>\n",
       "      <td>0</td>\n",
       "      <td>0</td>\n",
       "    </tr>\n",
       "  </tbody>\n",
       "</table>\n",
       "<p>404372 rows × 15 columns</p>\n",
       "</div>"
      ],
      "text/plain": [
       "       invoice stock_code                          description  quantity  \\\n",
       "0       489434      85048  15CM CHRISTMAS GLASS BALL 20 LIGHTS        12   \n",
       "1       489434     79323P                   PINK CHERRY LIGHTS        12   \n",
       "2       489434     79323W                  WHITE CHERRY LIGHTS        12   \n",
       "3       489434      22041         RECORD FRAME 7\" SINGLE SIZE         48   \n",
       "4       489434      21232       STRAWBERRY CERAMIC TRINKET BOX        24   \n",
       "...        ...        ...                                  ...       ...   \n",
       "417529  538171      22271                 FELTCRAFT DOLL ROSIE         2   \n",
       "417530  538171      22750         FELTCRAFT PRINCESS LOLA DOLL         1   \n",
       "417531  538171      22751       FELTCRAFT PRINCESS OLIVIA DOLL         1   \n",
       "417532  538171      20970   PINK FLORAL FELTCRAFT SHOULDER BAG         2   \n",
       "417533  538171      21931               JUMBO STORAGE BAG SUKI         2   \n",
       "\n",
       "              invoice_date  price  customer_id         country  total_sales  \\\n",
       "0      2009-12-01 07:45:00   6.95      13085.0  United Kingdom        83.40   \n",
       "1      2009-12-01 07:45:00   6.75      13085.0  United Kingdom        81.00   \n",
       "2      2009-12-01 07:45:00   6.75      13085.0  United Kingdom        81.00   \n",
       "3      2009-12-01 07:45:00   2.10      13085.0  United Kingdom       100.80   \n",
       "4      2009-12-01 07:45:00   1.25      13085.0  United Kingdom        30.00   \n",
       "...                    ...    ...          ...             ...          ...   \n",
       "417529 2010-12-09 20:01:00   2.95      17530.0  United Kingdom         5.90   \n",
       "417530 2010-12-09 20:01:00   3.75      17530.0  United Kingdom         3.75   \n",
       "417531 2010-12-09 20:01:00   3.75      17530.0  United Kingdom         3.75   \n",
       "417532 2010-12-09 20:01:00   3.75      17530.0  United Kingdom         7.50   \n",
       "417533 2010-12-09 20:01:00   1.95      17530.0  United Kingdom         3.90   \n",
       "\n",
       "        year     month       day  hour  spend_category  cluster  \n",
       "0       2009  December   Tuesday     7               0        2  \n",
       "1       2009  December   Tuesday     7               0        2  \n",
       "2       2009  December   Tuesday     7               0        2  \n",
       "3       2009  December   Tuesday     7               0        2  \n",
       "4       2009  December   Tuesday     7               0        2  \n",
       "...      ...       ...       ...   ...             ...      ...  \n",
       "417529  2010  December  Thursday    20               0        0  \n",
       "417530  2010  December  Thursday    20               0        0  \n",
       "417531  2010  December  Thursday    20               0        0  \n",
       "417532  2010  December  Thursday    20               0        0  \n",
       "417533  2010  December  Thursday    20               0        0  \n",
       "\n",
       "[404372 rows x 15 columns]"
      ]
     },
     "execution_count": 103,
     "metadata": {},
     "output_type": "execute_result"
    }
   ],
   "source": [
    "df"
   ]
  },
  {
   "cell_type": "markdown",
   "id": "7a014205",
   "metadata": {},
   "source": [
    "# Feature Engineering\n"
   ]
  },
  {
   "cell_type": "code",
   "execution_count": 23,
   "id": "e6efc3a2",
   "metadata": {},
   "outputs": [],
   "source": [
    "# Calculating total sales\n",
    "\n",
    "df['total_sales'] = df['quantity'] * df['price']"
   ]
  },
  {
   "cell_type": "code",
   "execution_count": 24,
   "id": "6c3f7e17",
   "metadata": {},
   "outputs": [],
   "source": [
    "# Extracting year\n",
    "\n",
    "df['year'] = df['invoice_date'].dt.year"
   ]
  },
  {
   "cell_type": "code",
   "execution_count": 25,
   "id": "cc999526",
   "metadata": {},
   "outputs": [],
   "source": [
    "# Extracting month \n",
    "\n",
    "df['month'] = df['invoice_date'].dt.month_name()"
   ]
  },
  {
   "cell_type": "code",
   "execution_count": 26,
   "id": "8ee6f5e2",
   "metadata": {},
   "outputs": [],
   "source": [
    "# Extracting day\n",
    "\n",
    "df['day'] = df['invoice_date'].dt.day_name()"
   ]
  },
  {
   "cell_type": "code",
   "execution_count": 27,
   "id": "c1ff7034",
   "metadata": {},
   "outputs": [],
   "source": [
    "# Extracting hour\n",
    "\n",
    "df['hour'] = df['invoice_date'].dt.hour"
   ]
  },
  {
   "cell_type": "code",
   "execution_count": 29,
   "id": "7def43f6",
   "metadata": {},
   "outputs": [
    {
     "data": {
      "text/html": [
       "<div>\n",
       "<style scoped>\n",
       "    .dataframe tbody tr th:only-of-type {\n",
       "        vertical-align: middle;\n",
       "    }\n",
       "\n",
       "    .dataframe tbody tr th {\n",
       "        vertical-align: top;\n",
       "    }\n",
       "\n",
       "    .dataframe thead th {\n",
       "        text-align: right;\n",
       "    }\n",
       "</style>\n",
       "<table border=\"1\" class=\"dataframe\">\n",
       "  <thead>\n",
       "    <tr style=\"text-align: right;\">\n",
       "      <th></th>\n",
       "      <th>invoice</th>\n",
       "      <th>stock_code</th>\n",
       "      <th>description</th>\n",
       "      <th>quantity</th>\n",
       "      <th>invoice_date</th>\n",
       "      <th>price</th>\n",
       "      <th>customer_id</th>\n",
       "      <th>country</th>\n",
       "      <th>total_sales</th>\n",
       "      <th>year</th>\n",
       "      <th>month</th>\n",
       "      <th>day</th>\n",
       "      <th>hour</th>\n",
       "      <th>spend_category</th>\n",
       "    </tr>\n",
       "  </thead>\n",
       "  <tbody>\n",
       "    <tr>\n",
       "      <th>0</th>\n",
       "      <td>489434</td>\n",
       "      <td>85048</td>\n",
       "      <td>15CM CHRISTMAS GLASS BALL 20 LIGHTS</td>\n",
       "      <td>12</td>\n",
       "      <td>2009-12-01 07:45:00</td>\n",
       "      <td>6.95</td>\n",
       "      <td>13085.0</td>\n",
       "      <td>United Kingdom</td>\n",
       "      <td>83.40</td>\n",
       "      <td>2009</td>\n",
       "      <td>December</td>\n",
       "      <td>Tuesday</td>\n",
       "      <td>7</td>\n",
       "      <td>0</td>\n",
       "    </tr>\n",
       "    <tr>\n",
       "      <th>1</th>\n",
       "      <td>489434</td>\n",
       "      <td>79323P</td>\n",
       "      <td>PINK CHERRY LIGHTS</td>\n",
       "      <td>12</td>\n",
       "      <td>2009-12-01 07:45:00</td>\n",
       "      <td>6.75</td>\n",
       "      <td>13085.0</td>\n",
       "      <td>United Kingdom</td>\n",
       "      <td>81.00</td>\n",
       "      <td>2009</td>\n",
       "      <td>December</td>\n",
       "      <td>Tuesday</td>\n",
       "      <td>7</td>\n",
       "      <td>0</td>\n",
       "    </tr>\n",
       "    <tr>\n",
       "      <th>2</th>\n",
       "      <td>489434</td>\n",
       "      <td>79323W</td>\n",
       "      <td>WHITE CHERRY LIGHTS</td>\n",
       "      <td>12</td>\n",
       "      <td>2009-12-01 07:45:00</td>\n",
       "      <td>6.75</td>\n",
       "      <td>13085.0</td>\n",
       "      <td>United Kingdom</td>\n",
       "      <td>81.00</td>\n",
       "      <td>2009</td>\n",
       "      <td>December</td>\n",
       "      <td>Tuesday</td>\n",
       "      <td>7</td>\n",
       "      <td>0</td>\n",
       "    </tr>\n",
       "    <tr>\n",
       "      <th>3</th>\n",
       "      <td>489434</td>\n",
       "      <td>22041</td>\n",
       "      <td>RECORD FRAME 7\" SINGLE SIZE</td>\n",
       "      <td>48</td>\n",
       "      <td>2009-12-01 07:45:00</td>\n",
       "      <td>2.10</td>\n",
       "      <td>13085.0</td>\n",
       "      <td>United Kingdom</td>\n",
       "      <td>100.80</td>\n",
       "      <td>2009</td>\n",
       "      <td>December</td>\n",
       "      <td>Tuesday</td>\n",
       "      <td>7</td>\n",
       "      <td>0</td>\n",
       "    </tr>\n",
       "    <tr>\n",
       "      <th>4</th>\n",
       "      <td>489434</td>\n",
       "      <td>21232</td>\n",
       "      <td>STRAWBERRY CERAMIC TRINKET BOX</td>\n",
       "      <td>24</td>\n",
       "      <td>2009-12-01 07:45:00</td>\n",
       "      <td>1.25</td>\n",
       "      <td>13085.0</td>\n",
       "      <td>United Kingdom</td>\n",
       "      <td>30.00</td>\n",
       "      <td>2009</td>\n",
       "      <td>December</td>\n",
       "      <td>Tuesday</td>\n",
       "      <td>7</td>\n",
       "      <td>0</td>\n",
       "    </tr>\n",
       "    <tr>\n",
       "      <th>...</th>\n",
       "      <td>...</td>\n",
       "      <td>...</td>\n",
       "      <td>...</td>\n",
       "      <td>...</td>\n",
       "      <td>...</td>\n",
       "      <td>...</td>\n",
       "      <td>...</td>\n",
       "      <td>...</td>\n",
       "      <td>...</td>\n",
       "      <td>...</td>\n",
       "      <td>...</td>\n",
       "      <td>...</td>\n",
       "      <td>...</td>\n",
       "      <td>...</td>\n",
       "    </tr>\n",
       "    <tr>\n",
       "      <th>417529</th>\n",
       "      <td>538171</td>\n",
       "      <td>22271</td>\n",
       "      <td>FELTCRAFT DOLL ROSIE</td>\n",
       "      <td>2</td>\n",
       "      <td>2010-12-09 20:01:00</td>\n",
       "      <td>2.95</td>\n",
       "      <td>17530.0</td>\n",
       "      <td>United Kingdom</td>\n",
       "      <td>5.90</td>\n",
       "      <td>2010</td>\n",
       "      <td>December</td>\n",
       "      <td>Thursday</td>\n",
       "      <td>20</td>\n",
       "      <td>0</td>\n",
       "    </tr>\n",
       "    <tr>\n",
       "      <th>417530</th>\n",
       "      <td>538171</td>\n",
       "      <td>22750</td>\n",
       "      <td>FELTCRAFT PRINCESS LOLA DOLL</td>\n",
       "      <td>1</td>\n",
       "      <td>2010-12-09 20:01:00</td>\n",
       "      <td>3.75</td>\n",
       "      <td>17530.0</td>\n",
       "      <td>United Kingdom</td>\n",
       "      <td>3.75</td>\n",
       "      <td>2010</td>\n",
       "      <td>December</td>\n",
       "      <td>Thursday</td>\n",
       "      <td>20</td>\n",
       "      <td>0</td>\n",
       "    </tr>\n",
       "    <tr>\n",
       "      <th>417531</th>\n",
       "      <td>538171</td>\n",
       "      <td>22751</td>\n",
       "      <td>FELTCRAFT PRINCESS OLIVIA DOLL</td>\n",
       "      <td>1</td>\n",
       "      <td>2010-12-09 20:01:00</td>\n",
       "      <td>3.75</td>\n",
       "      <td>17530.0</td>\n",
       "      <td>United Kingdom</td>\n",
       "      <td>3.75</td>\n",
       "      <td>2010</td>\n",
       "      <td>December</td>\n",
       "      <td>Thursday</td>\n",
       "      <td>20</td>\n",
       "      <td>0</td>\n",
       "    </tr>\n",
       "    <tr>\n",
       "      <th>417532</th>\n",
       "      <td>538171</td>\n",
       "      <td>20970</td>\n",
       "      <td>PINK FLORAL FELTCRAFT SHOULDER BAG</td>\n",
       "      <td>2</td>\n",
       "      <td>2010-12-09 20:01:00</td>\n",
       "      <td>3.75</td>\n",
       "      <td>17530.0</td>\n",
       "      <td>United Kingdom</td>\n",
       "      <td>7.50</td>\n",
       "      <td>2010</td>\n",
       "      <td>December</td>\n",
       "      <td>Thursday</td>\n",
       "      <td>20</td>\n",
       "      <td>0</td>\n",
       "    </tr>\n",
       "    <tr>\n",
       "      <th>417533</th>\n",
       "      <td>538171</td>\n",
       "      <td>21931</td>\n",
       "      <td>JUMBO STORAGE BAG SUKI</td>\n",
       "      <td>2</td>\n",
       "      <td>2010-12-09 20:01:00</td>\n",
       "      <td>1.95</td>\n",
       "      <td>17530.0</td>\n",
       "      <td>United Kingdom</td>\n",
       "      <td>3.90</td>\n",
       "      <td>2010</td>\n",
       "      <td>December</td>\n",
       "      <td>Thursday</td>\n",
       "      <td>20</td>\n",
       "      <td>0</td>\n",
       "    </tr>\n",
       "  </tbody>\n",
       "</table>\n",
       "<p>404372 rows × 14 columns</p>\n",
       "</div>"
      ],
      "text/plain": [
       "       invoice stock_code                          description  quantity  \\\n",
       "0       489434      85048  15CM CHRISTMAS GLASS BALL 20 LIGHTS        12   \n",
       "1       489434     79323P                   PINK CHERRY LIGHTS        12   \n",
       "2       489434     79323W                  WHITE CHERRY LIGHTS        12   \n",
       "3       489434      22041         RECORD FRAME 7\" SINGLE SIZE         48   \n",
       "4       489434      21232       STRAWBERRY CERAMIC TRINKET BOX        24   \n",
       "...        ...        ...                                  ...       ...   \n",
       "417529  538171      22271                 FELTCRAFT DOLL ROSIE         2   \n",
       "417530  538171      22750         FELTCRAFT PRINCESS LOLA DOLL         1   \n",
       "417531  538171      22751       FELTCRAFT PRINCESS OLIVIA DOLL         1   \n",
       "417532  538171      20970   PINK FLORAL FELTCRAFT SHOULDER BAG         2   \n",
       "417533  538171      21931               JUMBO STORAGE BAG SUKI         2   \n",
       "\n",
       "              invoice_date  price  customer_id         country  total_sales  \\\n",
       "0      2009-12-01 07:45:00   6.95      13085.0  United Kingdom        83.40   \n",
       "1      2009-12-01 07:45:00   6.75      13085.0  United Kingdom        81.00   \n",
       "2      2009-12-01 07:45:00   6.75      13085.0  United Kingdom        81.00   \n",
       "3      2009-12-01 07:45:00   2.10      13085.0  United Kingdom       100.80   \n",
       "4      2009-12-01 07:45:00   1.25      13085.0  United Kingdom        30.00   \n",
       "...                    ...    ...          ...             ...          ...   \n",
       "417529 2010-12-09 20:01:00   2.95      17530.0  United Kingdom         5.90   \n",
       "417530 2010-12-09 20:01:00   3.75      17530.0  United Kingdom         3.75   \n",
       "417531 2010-12-09 20:01:00   3.75      17530.0  United Kingdom         3.75   \n",
       "417532 2010-12-09 20:01:00   3.75      17530.0  United Kingdom         7.50   \n",
       "417533 2010-12-09 20:01:00   1.95      17530.0  United Kingdom         3.90   \n",
       "\n",
       "        year     month       day  hour  spend_category  \n",
       "0       2009  December   Tuesday     7               0  \n",
       "1       2009  December   Tuesday     7               0  \n",
       "2       2009  December   Tuesday     7               0  \n",
       "3       2009  December   Tuesday     7               0  \n",
       "4       2009  December   Tuesday     7               0  \n",
       "...      ...       ...       ...   ...             ...  \n",
       "417529  2010  December  Thursday    20               0  \n",
       "417530  2010  December  Thursday    20               0  \n",
       "417531  2010  December  Thursday    20               0  \n",
       "417532  2010  December  Thursday    20               0  \n",
       "417533  2010  December  Thursday    20               0  \n",
       "\n",
       "[404372 rows x 14 columns]"
      ]
     },
     "execution_count": 29,
     "metadata": {},
     "output_type": "execute_result"
    }
   ],
   "source": [
    "# Making bins according to the amount of total sales\n",
    "\n",
    "df['spend_category'] = df['total_sales'].apply(lambda x:1 if x > 250 else 0)\n",
    "df"
   ]
  },
  {
   "cell_type": "markdown",
   "id": "7aed6060",
   "metadata": {},
   "source": [
    "# Exploratory Data Analysis"
   ]
  },
  {
   "cell_type": "code",
   "execution_count": 30,
   "id": "47d03750",
   "metadata": {},
   "outputs": [
    {
     "data": {
      "image/png": "[encoded data removed]",
      "text/plain": [
       "<Figure size 864x864 with 2 Axes>"
      ]
     },
     "metadata": {},
     "output_type": "display_data"
    }
   ],
   "source": [
    "plt.figure(figsize=(12,12))\n",
    "sns.heatmap(df.corr(),annot=True,cmap='viridis',linewidths=.5);"
   ]
  },
  {
   "cell_type": "code",
   "execution_count": 31,
   "id": "85958c8b",
   "metadata": {},
   "outputs": [
    {
     "data": {
      "text/plain": [
       "array(['United Kingdom', 'France', 'USA', 'Belgium', 'Australia', 'EIRE',\n",
       "       'Germany', 'Portugal', 'Denmark', 'Netherlands', 'Poland',\n",
       "       'Channel Islands', 'Spain', 'Cyprus', 'Greece', 'Norway',\n",
       "       'Austria', 'Sweden', 'United Arab Emirates', 'Finland', 'Italy',\n",
       "       'Switzerland', 'Japan', 'Unspecified', 'Nigeria', 'Malta', 'RSA',\n",
       "       'Singapore', 'Bahrain', 'Thailand', 'Israel', 'Lithuania',\n",
       "       'West Indies', 'Korea', 'Brazil', 'Canada', 'Iceland'],\n",
       "      dtype=object)"
      ]
     },
     "execution_count": 31,
     "metadata": {},
     "output_type": "execute_result"
    }
   ],
   "source": [
    "# Finding unique values in the country column\n",
    "\n",
    "df['country'].unique()"
   ]
  },
  {
   "cell_type": "code",
   "execution_count": 32,
   "id": "f6951e98",
   "metadata": {},
   "outputs": [
    {
     "data": {
      "image/png": "[encoded data removed]",
      "text/plain": [
       "<Figure size 432x288 with 1 Axes>"
      ]
     },
     "metadata": {},
     "output_type": "display_data"
    }
   ],
   "source": [
    "# Total sales by year\n",
    "\n",
    "df.groupby('year')['total_sales'].sum().plot(kind='bar', title='Sales per year');"
   ]
  },
  {
   "cell_type": "code",
   "execution_count": 33,
   "id": "1d67371a",
   "metadata": {},
   "outputs": [
    {
     "data": {
      "image/png": "[encoded data removed]",
      "text/plain": [
       "<Figure size 432x288 with 1 Axes>"
      ]
     },
     "metadata": {},
     "output_type": "display_data"
    }
   ],
   "source": [
    "# Invistigating why sales were low in 2009\n",
    "\n",
    "df.groupby(['month', 'year'])['total_sales'].sum().plot(kind='bar', title='Sales per month');"
   ]
  },
  {
   "cell_type": "code",
   "execution_count": 34,
   "id": "513c0a6d",
   "metadata": {},
   "outputs": [
    {
     "data": {
      "image/png": "[encoded data removed]",
      "text/plain": [
       "<Figure size 1080x720 with 1 Axes>"
      ]
     },
     "metadata": {},
     "output_type": "display_data"
    }
   ],
   "source": [
    "# Total sales by mnnth\n",
    "\n",
    "df_1 = df.groupby('month')['total_sales'].sum().reset_index().sort_values('total_sales', ascending=False)\n",
    "plt.figure(figsize=(15, 10))\n",
    "sns.barplot(x=df_1['month'], y=df_1['total_sales'])\n",
    "plt.title('Sales by month');"
   ]
  },
  {
   "cell_type": "code",
   "execution_count": 35,
   "id": "b1e0c145",
   "metadata": {},
   "outputs": [
    {
     "data": {
      "image/png": "[encoded data removed]",
      "text/plain": [
       "<Figure size 720x720 with 1 Axes>"
      ]
     },
     "metadata": {},
     "output_type": "display_data"
    }
   ],
   "source": [
    "# Top five countries by total sales\n",
    "\n",
    "top5_countries = df.groupby('country')['total_sales'].sum().reset_index().sort_values('total_sales', ascending=False).head(5)\n",
    "\n",
    "plt.figure(figsize=(10,10))\n",
    "\n",
    "sns.barplot(x=top5_countries['country'], y=top5_countries['total_sales'])\n",
    "plt.title('Top 5 Countries');\n"
   ]
  },
  {
   "cell_type": "code",
   "execution_count": 36,
   "id": "40b2d151",
   "metadata": {},
   "outputs": [
    {
     "data": {
      "image/png": "[encoded data removed]",
      "text/plain": [
       "<Figure size 720x720 with 1 Axes>"
      ]
     },
     "metadata": {},
     "output_type": "display_data"
    }
   ],
   "source": [
    "# Top five customers by total sales\n",
    "\n",
    "top5_customers = df.groupby('customer_id')['total_sales'].sum().reset_index().sort_values('total_sales', ascending=False).head(5)\n",
    "\n",
    "plt.figure(figsize=(10,10))\n",
    "\n",
    "sns.barplot(x=top5_customers['customer_id'], y=top5_customers['total_sales'])\n",
    "plt.title('Top 5 Customers');"
   ]
  },
  {
   "cell_type": "code",
   "execution_count": 37,
   "id": "4217b85f",
   "metadata": {},
   "outputs": [
    {
     "data": {
      "image/png": "[encoded data removed]",
      "text/plain": [
       "<Figure size 720x720 with 1 Axes>"
      ]
     },
     "metadata": {},
     "output_type": "display_data"
    }
   ],
   "source": [
    "# Top ten items by total sales\n",
    "\n",
    "top5_items = df.groupby('stock_code')['total_sales'].sum().reset_index().sort_values('total_sales', ascending=False).head(5)\n",
    "\n",
    "plt.figure(figsize=(10,10))\n",
    "\n",
    "sns.barplot(x=top5_items['stock_code'], y=top5_items['total_sales'])\n",
    "plt.title('Top 5 Items');"
   ]
  },
  {
   "cell_type": "code",
   "execution_count": 38,
   "id": "cc7a6096",
   "metadata": {},
   "outputs": [
    {
     "data": {
      "image/png": "[encoded data removed]",
      "text/plain": [
       "<Figure size 720x720 with 1 Axes>"
      ]
     },
     "metadata": {},
     "output_type": "display_data"
    }
   ],
   "source": [
    "# Top five customers by average amount ordered\n",
    "\n",
    "top5_avg_totalsales = df.groupby('customer_id')['total_sales'].mean().reset_index().sort_values('total_sales', ascending=False).head(5)\n",
    "\n",
    "plt.figure(figsize=(10,10))\n",
    "\n",
    "sns.barplot(x=top5_avg_totalsales['customer_id'], y=top5_avg_totalsales['total_sales'])\n",
    "plt.title('Top 5 Customers by Average Total Sales');"
   ]
  },
  {
   "cell_type": "markdown",
   "id": "730561b7",
   "metadata": {},
   "source": [
    "# K-Means Clustering \n"
   ]
  },
  {
   "cell_type": "code",
   "execution_count": 40,
   "id": "9cc85d51",
   "metadata": {},
   "outputs": [
    {
     "data": {
      "text/html": [
       "<div>\n",
       "<style scoped>\n",
       "    .dataframe tbody tr th:only-of-type {\n",
       "        vertical-align: middle;\n",
       "    }\n",
       "\n",
       "    .dataframe tbody tr th {\n",
       "        vertical-align: top;\n",
       "    }\n",
       "\n",
       "    .dataframe thead th {\n",
       "        text-align: right;\n",
       "    }\n",
       "</style>\n",
       "<table border=\"1\" class=\"dataframe\">\n",
       "  <thead>\n",
       "    <tr style=\"text-align: right;\">\n",
       "      <th></th>\n",
       "      <th>invoice</th>\n",
       "      <th>stock_code</th>\n",
       "      <th>description</th>\n",
       "      <th>quantity</th>\n",
       "      <th>invoice_date</th>\n",
       "      <th>price</th>\n",
       "      <th>customer_id</th>\n",
       "      <th>country</th>\n",
       "      <th>total_sales</th>\n",
       "      <th>year</th>\n",
       "      <th>month</th>\n",
       "      <th>day</th>\n",
       "      <th>hour</th>\n",
       "      <th>spend_category</th>\n",
       "    </tr>\n",
       "  </thead>\n",
       "  <tbody>\n",
       "    <tr>\n",
       "      <th>0</th>\n",
       "      <td>489434</td>\n",
       "      <td>85048</td>\n",
       "      <td>15CM CHRISTMAS GLASS BALL 20 LIGHTS</td>\n",
       "      <td>12</td>\n",
       "      <td>2009-12-01 07:45:00</td>\n",
       "      <td>6.95</td>\n",
       "      <td>13085.0</td>\n",
       "      <td>United Kingdom</td>\n",
       "      <td>83.4</td>\n",
       "      <td>2009</td>\n",
       "      <td>December</td>\n",
       "      <td>Tuesday</td>\n",
       "      <td>7</td>\n",
       "      <td>0</td>\n",
       "    </tr>\n",
       "    <tr>\n",
       "      <th>1</th>\n",
       "      <td>489434</td>\n",
       "      <td>79323P</td>\n",
       "      <td>PINK CHERRY LIGHTS</td>\n",
       "      <td>12</td>\n",
       "      <td>2009-12-01 07:45:00</td>\n",
       "      <td>6.75</td>\n",
       "      <td>13085.0</td>\n",
       "      <td>United Kingdom</td>\n",
       "      <td>81.0</td>\n",
       "      <td>2009</td>\n",
       "      <td>December</td>\n",
       "      <td>Tuesday</td>\n",
       "      <td>7</td>\n",
       "      <td>0</td>\n",
       "    </tr>\n",
       "  </tbody>\n",
       "</table>\n",
       "</div>"
      ],
      "text/plain": [
       "  invoice stock_code                          description  quantity  \\\n",
       "0  489434      85048  15CM CHRISTMAS GLASS BALL 20 LIGHTS        12   \n",
       "1  489434     79323P                   PINK CHERRY LIGHTS        12   \n",
       "\n",
       "         invoice_date  price  customer_id         country  total_sales  year  \\\n",
       "0 2009-12-01 07:45:00   6.95      13085.0  United Kingdom         83.4  2009   \n",
       "1 2009-12-01 07:45:00   6.75      13085.0  United Kingdom         81.0  2009   \n",
       "\n",
       "      month      day  hour  spend_category  \n",
       "0  December  Tuesday     7               0  \n",
       "1  December  Tuesday     7               0  "
      ]
     },
     "execution_count": 40,
     "metadata": {},
     "output_type": "execute_result"
    }
   ],
   "source": [
    "# Examining the dataframe\n",
    "\n",
    "df.head(2)"
   ]
  },
  {
   "cell_type": "code",
   "execution_count": 41,
   "id": "352662ce",
   "metadata": {},
   "outputs": [],
   "source": [
    "# Selecting relevant columns for analysis\n",
    "\n",
    "df_new = df[['quantity', 'price', 'total_sales', 'year', 'hour', 'spend_category']]"
   ]
  },
  {
   "cell_type": "code",
   "execution_count": 45,
   "id": "efd3e63e",
   "metadata": {},
   "outputs": [],
   "source": [
    "X_cluster = df_new.copy()"
   ]
  },
  {
   "cell_type": "code",
   "execution_count": 46,
   "id": "6a129bf9",
   "metadata": {},
   "outputs": [
    {
     "data": {
      "text/html": [
       "<div>\n",
       "<style scoped>\n",
       "    .dataframe tbody tr th:only-of-type {\n",
       "        vertical-align: middle;\n",
       "    }\n",
       "\n",
       "    .dataframe tbody tr th {\n",
       "        vertical-align: top;\n",
       "    }\n",
       "\n",
       "    .dataframe thead th {\n",
       "        text-align: right;\n",
       "    }\n",
       "</style>\n",
       "<table border=\"1\" class=\"dataframe\">\n",
       "  <thead>\n",
       "    <tr style=\"text-align: right;\">\n",
       "      <th></th>\n",
       "      <th>quantity</th>\n",
       "      <th>price</th>\n",
       "      <th>total_sales</th>\n",
       "      <th>year</th>\n",
       "      <th>hour</th>\n",
       "      <th>spend_category</th>\n",
       "    </tr>\n",
       "  </thead>\n",
       "  <tbody>\n",
       "    <tr>\n",
       "      <th>0</th>\n",
       "      <td>12</td>\n",
       "      <td>6.95</td>\n",
       "      <td>83.40</td>\n",
       "      <td>2009</td>\n",
       "      <td>7</td>\n",
       "      <td>0</td>\n",
       "    </tr>\n",
       "    <tr>\n",
       "      <th>1</th>\n",
       "      <td>12</td>\n",
       "      <td>6.75</td>\n",
       "      <td>81.00</td>\n",
       "      <td>2009</td>\n",
       "      <td>7</td>\n",
       "      <td>0</td>\n",
       "    </tr>\n",
       "    <tr>\n",
       "      <th>2</th>\n",
       "      <td>12</td>\n",
       "      <td>6.75</td>\n",
       "      <td>81.00</td>\n",
       "      <td>2009</td>\n",
       "      <td>7</td>\n",
       "      <td>0</td>\n",
       "    </tr>\n",
       "    <tr>\n",
       "      <th>3</th>\n",
       "      <td>48</td>\n",
       "      <td>2.10</td>\n",
       "      <td>100.80</td>\n",
       "      <td>2009</td>\n",
       "      <td>7</td>\n",
       "      <td>0</td>\n",
       "    </tr>\n",
       "    <tr>\n",
       "      <th>4</th>\n",
       "      <td>24</td>\n",
       "      <td>1.25</td>\n",
       "      <td>30.00</td>\n",
       "      <td>2009</td>\n",
       "      <td>7</td>\n",
       "      <td>0</td>\n",
       "    </tr>\n",
       "    <tr>\n",
       "      <th>...</th>\n",
       "      <td>...</td>\n",
       "      <td>...</td>\n",
       "      <td>...</td>\n",
       "      <td>...</td>\n",
       "      <td>...</td>\n",
       "      <td>...</td>\n",
       "    </tr>\n",
       "    <tr>\n",
       "      <th>417529</th>\n",
       "      <td>2</td>\n",
       "      <td>2.95</td>\n",
       "      <td>5.90</td>\n",
       "      <td>2010</td>\n",
       "      <td>20</td>\n",
       "      <td>0</td>\n",
       "    </tr>\n",
       "    <tr>\n",
       "      <th>417530</th>\n",
       "      <td>1</td>\n",
       "      <td>3.75</td>\n",
       "      <td>3.75</td>\n",
       "      <td>2010</td>\n",
       "      <td>20</td>\n",
       "      <td>0</td>\n",
       "    </tr>\n",
       "    <tr>\n",
       "      <th>417531</th>\n",
       "      <td>1</td>\n",
       "      <td>3.75</td>\n",
       "      <td>3.75</td>\n",
       "      <td>2010</td>\n",
       "      <td>20</td>\n",
       "      <td>0</td>\n",
       "    </tr>\n",
       "    <tr>\n",
       "      <th>417532</th>\n",
       "      <td>2</td>\n",
       "      <td>3.75</td>\n",
       "      <td>7.50</td>\n",
       "      <td>2010</td>\n",
       "      <td>20</td>\n",
       "      <td>0</td>\n",
       "    </tr>\n",
       "    <tr>\n",
       "      <th>417533</th>\n",
       "      <td>2</td>\n",
       "      <td>1.95</td>\n",
       "      <td>3.90</td>\n",
       "      <td>2010</td>\n",
       "      <td>20</td>\n",
       "      <td>0</td>\n",
       "    </tr>\n",
       "  </tbody>\n",
       "</table>\n",
       "<p>404372 rows × 6 columns</p>\n",
       "</div>"
      ],
      "text/plain": [
       "        quantity  price  total_sales  year  hour  spend_category\n",
       "0             12   6.95        83.40  2009     7               0\n",
       "1             12   6.75        81.00  2009     7               0\n",
       "2             12   6.75        81.00  2009     7               0\n",
       "3             48   2.10       100.80  2009     7               0\n",
       "4             24   1.25        30.00  2009     7               0\n",
       "...          ...    ...          ...   ...   ...             ...\n",
       "417529         2   2.95         5.90  2010    20               0\n",
       "417530         1   3.75         3.75  2010    20               0\n",
       "417531         1   3.75         3.75  2010    20               0\n",
       "417532         2   3.75         7.50  2010    20               0\n",
       "417533         2   1.95         3.90  2010    20               0\n",
       "\n",
       "[404372 rows x 6 columns]"
      ]
     },
     "execution_count": 46,
     "metadata": {},
     "output_type": "execute_result"
    }
   ],
   "source": [
    "X_cluster"
   ]
  },
  {
   "cell_type": "code",
   "execution_count": 50,
   "id": "e221959b",
   "metadata": {},
   "outputs": [],
   "source": [
    "# Standardising the data\n",
    "\n",
    "scaler = StandardScaler()"
   ]
  },
  {
   "cell_type": "code",
   "execution_count": 51,
   "id": "c030e011",
   "metadata": {},
   "outputs": [
    {
     "data": {
      "text/html": [
       "<div>\n",
       "<style scoped>\n",
       "    .dataframe tbody tr th:only-of-type {\n",
       "        vertical-align: middle;\n",
       "    }\n",
       "\n",
       "    .dataframe tbody tr th {\n",
       "        vertical-align: top;\n",
       "    }\n",
       "\n",
       "    .dataframe thead th {\n",
       "        text-align: right;\n",
       "    }\n",
       "</style>\n",
       "<table border=\"1\" class=\"dataframe\">\n",
       "  <thead>\n",
       "    <tr style=\"text-align: right;\">\n",
       "      <th></th>\n",
       "      <th>quantity</th>\n",
       "      <th>price</th>\n",
       "      <th>total_sales</th>\n",
       "      <th>year</th>\n",
       "      <th>hour</th>\n",
       "      <th>spend_category</th>\n",
       "    </tr>\n",
       "  </thead>\n",
       "  <tbody>\n",
       "    <tr>\n",
       "      <th>0</th>\n",
       "      <td>-0.002823</td>\n",
       "      <td>0.104025</td>\n",
       "      <td>0.802754</td>\n",
       "      <td>-3.505074</td>\n",
       "      <td>-2.549386</td>\n",
       "      <td>-0.082642</td>\n",
       "    </tr>\n",
       "    <tr>\n",
       "      <th>1</th>\n",
       "      <td>-0.002823</td>\n",
       "      <td>0.098294</td>\n",
       "      <td>0.771566</td>\n",
       "      <td>-3.505074</td>\n",
       "      <td>-2.549386</td>\n",
       "      <td>-0.082642</td>\n",
       "    </tr>\n",
       "    <tr>\n",
       "      <th>2</th>\n",
       "      <td>-0.002823</td>\n",
       "      <td>0.098294</td>\n",
       "      <td>0.771566</td>\n",
       "      <td>-3.505074</td>\n",
       "      <td>-2.549386</td>\n",
       "      <td>-0.082642</td>\n",
       "    </tr>\n",
       "    <tr>\n",
       "      <th>3</th>\n",
       "      <td>0.620242</td>\n",
       "      <td>-0.034951</td>\n",
       "      <td>1.028864</td>\n",
       "      <td>-3.505074</td>\n",
       "      <td>-2.549386</td>\n",
       "      <td>-0.082642</td>\n",
       "    </tr>\n",
       "    <tr>\n",
       "      <th>4</th>\n",
       "      <td>0.204865</td>\n",
       "      <td>-0.059308</td>\n",
       "      <td>0.108831</td>\n",
       "      <td>-3.505074</td>\n",
       "      <td>-2.549386</td>\n",
       "      <td>-0.082642</td>\n",
       "    </tr>\n",
       "  </tbody>\n",
       "</table>\n",
       "</div>"
      ],
      "text/plain": [
       "   quantity     price  total_sales      year      hour  spend_category\n",
       "0 -0.002823  0.104025     0.802754 -3.505074 -2.549386       -0.082642\n",
       "1 -0.002823  0.098294     0.771566 -3.505074 -2.549386       -0.082642\n",
       "2 -0.002823  0.098294     0.771566 -3.505074 -2.549386       -0.082642\n",
       "3  0.620242 -0.034951     1.028864 -3.505074 -2.549386       -0.082642\n",
       "4  0.204865 -0.059308     0.108831 -3.505074 -2.549386       -0.082642"
      ]
     },
     "execution_count": 51,
     "metadata": {},
     "output_type": "execute_result"
    }
   ],
   "source": [
    "# Fitting the scaled data\n",
    "\n",
    "scaled_X_cluster = scaler.fit_transform(X_cluster)\n",
    "scaled_X = pd.DataFrame(scaled_X_cluster, columns=X_cluster.columns)"
   ]
  },
  {
   "cell_type": "code",
   "execution_count": 52,
   "id": "98c24d81",
   "metadata": {},
   "outputs": [
    {
     "data": {
      "image/png": "[encoded data removed]",
      "text/plain": [
       "<Figure size 720x720 with 2 Axes>"
      ]
     },
     "metadata": {},
     "output_type": "display_data"
    }
   ],
   "source": [
    "# Choosing the best k using elbow method\n",
    "\n",
    "model = KMeans()\n",
    "plot_elbow_curve(model, scaled_X, cluster_ranges=(1,11), figsize= (10,10));\n",
    "\n",
    "# The result was a straight line, so I tried the elbow method using a \"for loop\" "
   ]
  },
  {
   "cell_type": "code",
   "execution_count": 54,
   "id": "5ee1065c",
   "metadata": {},
   "outputs": [
    {
     "name": "stderr",
     "output_type": "stream",
     "text": [
      "C:\\Users\\Owner\\AppData\\Local\\Temp\\ipykernel_5692\\1842872425.py:13: UserWarning: color is redundantly defined by the 'color' keyword argument and the fmt string \"bo-\" (-> color='b'). The keyword argument will take precedence.\n",
      "  plt.plot(K, distortions, 'bo-', alpha=0.5, c='green', lw=5)\n"
     ]
    },
    {
     "data": {
      "image/png": "[encoded data removed]",
      "text/plain": [
       "<Figure size 648x504 with 1 Axes>"
      ]
     },
     "metadata": {},
     "output_type": "display_data"
    }
   ],
   "source": [
    "# Choosing the best k using elbow method\n",
    "\n",
    "distortions = []\n",
    "K = range(1,10)\n",
    "for k in K:\n",
    "    kmeanModel = KMeans(n_clusters=k).fit(scaled_X)\n",
    "    kmeanModel.fit(scaled_X)\n",
    "    #distortions.append(sum(np.min(cdist(X, kmeanModel.cluster_centers_, 'euclidean'), axis=1)) / X.shape[0])\n",
    "    distortions.append(kmeanModel.inertia_)\n",
    "\n",
    "# Plot the elbow\n",
    "plt.figure(figsize=(9,7))\n",
    "plt.plot(K, distortions, 'bo-', alpha=0.5, c='green', lw=5)\n",
    "plt.xlabel('k')\n",
    "plt.ylabel('Distortion')\n",
    "plt.grid(True)\n",
    "plt.title('The Elbow Method showing the optimal k')\n",
    "plt.show()"
   ]
  },
  {
   "cell_type": "code",
   "execution_count": 56,
   "id": "01a10b8e",
   "metadata": {
    "collapsed": true
   },
   "outputs": [
    {
     "name": "stdout",
     "output_type": "stream",
     "text": [
      "Requirement already satisfied: scikit-plot in c:\\users\\owner\\anaconda3\\lib\\site-packages (0.3.7)\n",
      "Requirement already satisfied: joblib>=0.10 in c:\\users\\owner\\anaconda3\\lib\\site-packages (from scikit-plot) (1.1.0)\n",
      "Requirement already satisfied: scikit-learn>=0.18 in c:\\users\\owner\\anaconda3\\lib\\site-packages (from scikit-plot) (1.1.1)\n",
      "Requirement already satisfied: matplotlib>=1.4.0 in c:\\users\\owner\\anaconda3\\lib\\site-packages (from scikit-plot) (3.5.1)\n",
      "Requirement already satisfied: scipy>=0.9 in c:\\users\\owner\\anaconda3\\lib\\site-packages (from scikit-plot) (1.7.3)\n",
      "Requirement already satisfied: pillow>=6.2.0 in c:\\users\\owner\\anaconda3\\lib\\site-packages (from matplotlib>=1.4.0->scikit-plot) (9.0.1)\n",
      "Requirement already satisfied: packaging>=20.0 in c:\\users\\owner\\anaconda3\\lib\\site-packages (from matplotlib>=1.4.0->scikit-plot) (21.3)\n",
      "Requirement already satisfied: kiwisolver>=1.0.1 in c:\\users\\owner\\anaconda3\\lib\\site-packages (from matplotlib>=1.4.0->scikit-plot) (1.3.2)\n",
      "Requirement already satisfied: numpy>=1.17 in c:\\users\\owner\\anaconda3\\lib\\site-packages (from matplotlib>=1.4.0->scikit-plot) (1.21.5)\n",
      "Requirement already satisfied: python-dateutil>=2.7 in c:\\users\\owner\\anaconda3\\lib\\site-packages (from matplotlib>=1.4.0->scikit-plot) (2.8.2)\n",
      "Requirement already satisfied: pyparsing>=2.2.1 in c:\\users\\owner\\anaconda3\\lib\\site-packages (from matplotlib>=1.4.0->scikit-plot) (3.0.4)\n",
      "Requirement already satisfied: fonttools>=4.22.0 in c:\\users\\owner\\anaconda3\\lib\\site-packages (from matplotlib>=1.4.0->scikit-plot) (4.25.0)\n",
      "Requirement already satisfied: cycler>=0.10 in c:\\users\\owner\\anaconda3\\lib\\site-packages (from matplotlib>=1.4.0->scikit-plot) (0.11.0)\n",
      "Requirement already satisfied: six>=1.5 in c:\\users\\owner\\anaconda3\\lib\\site-packages (from python-dateutil>=2.7->matplotlib>=1.4.0->scikit-plot) (1.16.0)\n",
      "Requirement already satisfied: threadpoolctl>=2.0.0 in c:\\users\\owner\\anaconda3\\lib\\site-packages (from scikit-learn>=0.18->scikit-plot) (2.2.0)\n"
     ]
    }
   ],
   "source": [
    "# Installing the scikit-plot library\n",
    "\n",
    "!pip install scikit-plot"
   ]
  },
  {
   "cell_type": "markdown",
   "id": "c7a76ba4",
   "metadata": {},
   "source": [
    "#### Silhouette Analysis"
   ]
  },
  {
   "cell_type": "code",
   "execution_count": 64,
   "id": "bc1da246",
   "metadata": {
    "scrolled": true
   },
   "outputs": [
    {
     "data": {
      "text/plain": [
       "<AxesSubplot:title={'center':'Silhouette Analysis'}, xlabel='Silhouette coefficient values', ylabel='Cluster label'>"
      ]
     },
     "execution_count": 64,
     "metadata": {},
     "output_type": "execute_result"
    },
    {
     "data": {
      "image/png": "[encoded data removed]",
      "text/plain": [
       "<Figure size 432x288 with 1 Axes>"
      ]
     },
     "metadata": {},
     "output_type": "display_data"
    }
   ],
   "source": [
    "model = KMeans(5, random_state=10)\n",
    "\n",
    "model.fit(scaled_X)\n",
    "\n",
    "plot_silhouette(scaled_X, model.labels_)"
   ]
  },
  {
   "cell_type": "code",
   "execution_count": 148,
   "id": "3c50b84a",
   "metadata": {},
   "outputs": [
    {
     "data": {
      "text/plain": [
       "<AxesSubplot:title={'center':'Silhouette Analysis'}, xlabel='Silhouette coefficient values', ylabel='Cluster label'>"
      ]
     },
     "execution_count": 148,
     "metadata": {},
     "output_type": "execute_result"
    },
    {
     "data": {
      "image/png": "[encoded data removed]",
      "text/plain": [
       "<Figure size 432x288 with 1 Axes>"
      ]
     },
     "metadata": {},
     "output_type": "display_data"
    }
   ],
   "source": [
    "model = KMeans(6, random_state=10)\n",
    "\n",
    "model.fit(scaled_X)\n",
    "\n",
    "plot_silhouette(scaled_X, model.labels_)"
   ]
  },
  {
   "cell_type": "code",
   "execution_count": 151,
   "id": "c20c4dad",
   "metadata": {},
   "outputs": [
    {
     "data": {
      "text/plain": [
       "<AxesSubplot:title={'center':'Silhouette Analysis'}, xlabel='Silhouette coefficient values', ylabel='Cluster label'>"
      ]
     },
     "execution_count": 151,
     "metadata": {},
     "output_type": "execute_result"
    },
    {
     "data": {
      "image/png": "[encoded data removed]",
      "text/plain": [
       "<Figure size 432x288 with 1 Axes>"
      ]
     },
     "metadata": {},
     "output_type": "display_data"
    }
   ],
   "source": [
    "model = KMeans(3, random_state=10)\n",
    "\n",
    "model.fit(scaled_X)\n",
    "\n",
    "plot_silhouette(scaled_X, model.labels_)"
   ]
  },
  {
   "cell_type": "markdown",
   "id": "a1ec8f7c",
   "metadata": {},
   "source": [
    "#### Analyzing the Clusters"
   ]
  },
  {
   "cell_type": "code",
   "execution_count": 68,
   "id": "30918b70",
   "metadata": {},
   "outputs": [
    {
     "data": {
      "text/plain": [
       "(404372, 6)"
      ]
     },
     "execution_count": 68,
     "metadata": {},
     "output_type": "execute_result"
    }
   ],
   "source": [
    "scaled_X.shape"
   ]
  },
  {
   "cell_type": "code",
   "execution_count": 71,
   "id": "de864294",
   "metadata": {},
   "outputs": [],
   "source": [
    "scaled_X['cluster'] = model.labels_"
   ]
  },
  {
   "cell_type": "code",
   "execution_count": 73,
   "id": "b95ed2af",
   "metadata": {},
   "outputs": [
    {
     "data": {
      "text/plain": [
       "1    231810\n",
       "0    139585\n",
       "2     30234\n",
       "4      2738\n",
       "3         5\n",
       "Name: cluster, dtype: int64"
      ]
     },
     "execution_count": 73,
     "metadata": {},
     "output_type": "execute_result"
    }
   ],
   "source": [
    "scaled_X['cluster'].value_counts() "
   ]
  },
  {
   "cell_type": "code",
   "execution_count": 75,
   "id": "d717b110",
   "metadata": {},
   "outputs": [
    {
     "data": {
      "text/plain": [
       "(404372, 7)"
      ]
     },
     "execution_count": 75,
     "metadata": {},
     "output_type": "execute_result"
    }
   ],
   "source": [
    "scaled_X.shape"
   ]
  },
  {
   "cell_type": "code",
   "execution_count": 88,
   "id": "aa3eaa56",
   "metadata": {},
   "outputs": [
    {
     "data": {
      "text/html": [
       "<div>\n",
       "<style scoped>\n",
       "    .dataframe tbody tr th:only-of-type {\n",
       "        vertical-align: middle;\n",
       "    }\n",
       "\n",
       "    .dataframe tbody tr th {\n",
       "        vertical-align: top;\n",
       "    }\n",
       "\n",
       "    .dataframe thead th {\n",
       "        text-align: right;\n",
       "    }\n",
       "</style>\n",
       "<table border=\"1\" class=\"dataframe\">\n",
       "  <thead>\n",
       "    <tr style=\"text-align: right;\">\n",
       "      <th></th>\n",
       "      <th>quantity</th>\n",
       "      <th>price</th>\n",
       "      <th>total_sales</th>\n",
       "      <th>year</th>\n",
       "      <th>hour</th>\n",
       "      <th>spend_category</th>\n",
       "      <th>cluster</th>\n",
       "    </tr>\n",
       "  </thead>\n",
       "  <tbody>\n",
       "    <tr>\n",
       "      <th>0</th>\n",
       "      <td>-0.002823</td>\n",
       "      <td>0.104025</td>\n",
       "      <td>0.802754</td>\n",
       "      <td>-3.505074</td>\n",
       "      <td>-2.549386</td>\n",
       "      <td>-0.082642</td>\n",
       "      <td>2</td>\n",
       "    </tr>\n",
       "    <tr>\n",
       "      <th>1</th>\n",
       "      <td>-0.002823</td>\n",
       "      <td>0.098294</td>\n",
       "      <td>0.771566</td>\n",
       "      <td>-3.505074</td>\n",
       "      <td>-2.549386</td>\n",
       "      <td>-0.082642</td>\n",
       "      <td>2</td>\n",
       "    </tr>\n",
       "    <tr>\n",
       "      <th>2</th>\n",
       "      <td>-0.002823</td>\n",
       "      <td>0.098294</td>\n",
       "      <td>0.771566</td>\n",
       "      <td>-3.505074</td>\n",
       "      <td>-2.549386</td>\n",
       "      <td>-0.082642</td>\n",
       "      <td>2</td>\n",
       "    </tr>\n",
       "    <tr>\n",
       "      <th>3</th>\n",
       "      <td>0.620242</td>\n",
       "      <td>-0.034951</td>\n",
       "      <td>1.028864</td>\n",
       "      <td>-3.505074</td>\n",
       "      <td>-2.549386</td>\n",
       "      <td>-0.082642</td>\n",
       "      <td>2</td>\n",
       "    </tr>\n",
       "    <tr>\n",
       "      <th>4</th>\n",
       "      <td>0.204865</td>\n",
       "      <td>-0.059308</td>\n",
       "      <td>0.108831</td>\n",
       "      <td>-3.505074</td>\n",
       "      <td>-2.549386</td>\n",
       "      <td>-0.082642</td>\n",
       "      <td>2</td>\n",
       "    </tr>\n",
       "  </tbody>\n",
       "</table>\n",
       "</div>"
      ],
      "text/plain": [
       "   quantity     price  total_sales      year      hour  spend_category  \\\n",
       "0 -0.002823  0.104025     0.802754 -3.505074 -2.549386       -0.082642   \n",
       "1 -0.002823  0.098294     0.771566 -3.505074 -2.549386       -0.082642   \n",
       "2 -0.002823  0.098294     0.771566 -3.505074 -2.549386       -0.082642   \n",
       "3  0.620242 -0.034951     1.028864 -3.505074 -2.549386       -0.082642   \n",
       "4  0.204865 -0.059308     0.108831 -3.505074 -2.549386       -0.082642   \n",
       "\n",
       "   cluster  \n",
       "0        2  \n",
       "1        2  \n",
       "2        2  \n",
       "3        2  \n",
       "4        2  "
      ]
     },
     "execution_count": 88,
     "metadata": {},
     "output_type": "execute_result"
    }
   ],
   "source": [
    "scaled_X.head()"
   ]
  },
  {
   "cell_type": "code",
   "execution_count": 77,
   "id": "1c9c91c9",
   "metadata": {},
   "outputs": [],
   "source": [
    "df['cluster'] = model.labels_"
   ]
  },
  {
   "cell_type": "code",
   "execution_count": 78,
   "id": "c6a13d98",
   "metadata": {},
   "outputs": [
    {
     "data": {
      "text/plain": [
       "(404372, 15)"
      ]
     },
     "execution_count": 78,
     "metadata": {},
     "output_type": "execute_result"
    }
   ],
   "source": [
    "df.shape"
   ]
  },
  {
   "cell_type": "code",
   "execution_count": 81,
   "id": "f7f394b2",
   "metadata": {},
   "outputs": [
    {
     "data": {
      "text/plain": [
       "1    231810\n",
       "0    139585\n",
       "2     30234\n",
       "4      2738\n",
       "3         5\n",
       "Name: cluster, dtype: int64"
      ]
     },
     "execution_count": 81,
     "metadata": {},
     "output_type": "execute_result"
    }
   ],
   "source": [
    "df['cluster'].value_counts()"
   ]
  },
  {
   "cell_type": "code",
   "execution_count": 79,
   "id": "ae409ade",
   "metadata": {},
   "outputs": [
    {
     "data": {
      "text/plain": [
       "cluster  customer_id\n",
       "0        16549.0        2032\n",
       "         17841.0        1785\n",
       "         14911.0        1598\n",
       "         14606.0        1482\n",
       "         12748.0        1110\n",
       "                        ... \n",
       "4        18179.0           1\n",
       "         18194.0           1\n",
       "         18223.0           1\n",
       "         18226.0           1\n",
       "         18227.0           1\n",
       "Name: customer_id, Length: 7292, dtype: int64"
      ]
     },
     "execution_count": 79,
     "metadata": {},
     "output_type": "execute_result"
    }
   ],
   "source": [
    "df.groupby('cluster')['customer_id'].value_counts()"
   ]
  },
  {
   "cell_type": "code",
   "execution_count": 80,
   "id": "7ffea2c3",
   "metadata": {},
   "outputs": [
    {
     "data": {
      "text/plain": [
       "cluster  description                       \n",
       "0        WHITE HANGING HEART T-LIGHT HOLDER    980\n",
       "         REGENCY CAKESTAND 3 TIER              571\n",
       "         ASSORTED COLOUR BIRD ORNAMENT         441\n",
       "         REX CASH+CARRY JUMBO SHOPPER          435\n",
       "         STRAWBERRY CERAMIC TRINKET BOX        430\n",
       "                                              ... \n",
       "4        YELLOW POT PLANT CANDLE                 1\n",
       "         ZINC FOLKART SLEIGH BELLS               1\n",
       "         ZINC HEART LATTICE DOUBLE PLANTER       1\n",
       "         ZINC HEART LATTICE PLANTER BOWL         1\n",
       "         ZINC POLICE BOX LANTERN                 1\n",
       "Name: description, Length: 11639, dtype: int64"
      ]
     },
     "execution_count": 80,
     "metadata": {},
     "output_type": "execute_result"
    }
   ],
   "source": [
    "df.groupby('cluster')['description'].value_counts()"
   ]
  },
  {
   "cell_type": "code",
   "execution_count": 83,
   "id": "e679075e",
   "metadata": {},
   "outputs": [
    {
     "data": {
      "text/plain": [
       "cluster  country             \n",
       "0        United Kingdom          128980\n",
       "         EIRE                      2432\n",
       "         Germany                   2187\n",
       "         France                    1685\n",
       "         Netherlands                716\n",
       "                                  ...  \n",
       "4        Malta                        2\n",
       "         Norway                       1\n",
       "         Singapore                    1\n",
       "         USA                          1\n",
       "         United Arab Emirates         1\n",
       "Name: country, Length: 110, dtype: int64"
      ]
     },
     "execution_count": 83,
     "metadata": {},
     "output_type": "execute_result"
    }
   ],
   "source": [
    "df.groupby('cluster')['country'].value_counts()"
   ]
  },
  {
   "cell_type": "code",
   "execution_count": 87,
   "id": "b862ff46",
   "metadata": {},
   "outputs": [
    {
     "name": "stderr",
     "output_type": "stream",
     "text": [
      "C:\\Users\\Owner\\AppData\\Local\\Temp\\ipykernel_5692\\2396949650.py:1: FutureWarning: DataFrame.mean and DataFrame.median with numeric_only=None will include datetime64 and datetime64tz columns in a future version.\n",
      "  df[df['cluster'] == 0].mean()\n",
      "C:\\Users\\Owner\\AppData\\Local\\Temp\\ipykernel_5692\\2396949650.py:1: FutureWarning: Dropping of nuisance columns in DataFrame reductions (with 'numeric_only=None') is deprecated; in a future version this will raise TypeError.  Select only valid columns before calling the reduction.\n",
      "  df[df['cluster'] == 0].mean()\n"
     ]
    },
    {
     "data": {
      "text/plain": [
       "invoice                    inf\n",
       "quantity          9.318279e+00\n",
       "price             3.024368e+00\n",
       "customer_id       1.540827e+04\n",
       "total_sales       1.631442e+01\n",
       "year              2.010000e+03\n",
       "hour              1.524166e+01\n",
       "spend_category    0.000000e+00\n",
       "cluster           0.000000e+00\n",
       "dtype: float64"
      ]
     },
     "execution_count": 87,
     "metadata": {},
     "output_type": "execute_result"
    }
   ],
   "source": [
    "df[df['cluster'] == 0].mean()"
   ]
  },
  {
   "cell_type": "code",
   "execution_count": 89,
   "id": "997b6993",
   "metadata": {},
   "outputs": [
    {
     "name": "stderr",
     "output_type": "stream",
     "text": [
      "C:\\Users\\Owner\\AppData\\Local\\Temp\\ipykernel_5692\\94482927.py:1: FutureWarning: DataFrame.mean and DataFrame.median with numeric_only=None will include datetime64 and datetime64tz columns in a future version.\n",
      "  df[df['cluster'] == 1].mean()\n",
      "C:\\Users\\Owner\\AppData\\Local\\Temp\\ipykernel_5692\\94482927.py:1: FutureWarning: Dropping of nuisance columns in DataFrame reductions (with 'numeric_only=None') is deprecated; in a future version this will raise TypeError.  Select only valid columns before calling the reduction.\n",
      "  df[df['cluster'] == 1].mean()\n"
     ]
    },
    {
     "data": {
      "text/plain": [
       "invoice                    inf\n",
       "quantity          1.081708e+01\n",
       "price             3.053977e+00\n",
       "customer_id       1.532775e+04\n",
       "total_sales       1.857272e+01\n",
       "year              2.010000e+03\n",
       "hour              1.142638e+01\n",
       "spend_category    0.000000e+00\n",
       "cluster           1.000000e+00\n",
       "dtype: float64"
      ]
     },
     "execution_count": 89,
     "metadata": {},
     "output_type": "execute_result"
    }
   ],
   "source": [
    "df[df['cluster'] == 1].mean()"
   ]
  },
  {
   "cell_type": "code",
   "execution_count": 104,
   "id": "042990c4",
   "metadata": {},
   "outputs": [
    {
     "name": "stderr",
     "output_type": "stream",
     "text": [
      "C:\\Users\\Owner\\AppData\\Local\\Temp\\ipykernel_5692\\245803118.py:1: FutureWarning: DataFrame.mean and DataFrame.median with numeric_only=None will include datetime64 and datetime64tz columns in a future version.\n",
      "  df[df['cluster'] == 2].mean()\n",
      "C:\\Users\\Owner\\AppData\\Local\\Temp\\ipykernel_5692\\245803118.py:1: FutureWarning: Dropping of nuisance columns in DataFrame reductions (with 'numeric_only=None') is deprecated; in a future version this will raise TypeError.  Select only valid columns before calling the reduction.\n",
      "  df[df['cluster'] == 2].mean()\n"
     ]
    },
    {
     "data": {
      "text/plain": [
       "invoice                    inf\n",
       "quantity          1.033452e+01\n",
       "price             3.158353e+00\n",
       "customer_id       1.547881e+04\n",
       "total_sales       1.870086e+01\n",
       "year              2.009000e+03\n",
       "hour              1.310505e+01\n",
       "spend_category    0.000000e+00\n",
       "cluster           2.000000e+00\n",
       "dtype: float64"
      ]
     },
     "execution_count": 104,
     "metadata": {},
     "output_type": "execute_result"
    }
   ],
   "source": [
    "df[df['cluster'] == 2].mean()"
   ]
  },
  {
   "cell_type": "code",
   "execution_count": 105,
   "id": "542a89a4",
   "metadata": {},
   "outputs": [
    {
     "name": "stderr",
     "output_type": "stream",
     "text": [
      "C:\\Users\\Owner\\AppData\\Local\\Temp\\ipykernel_5692\\2585729423.py:1: FutureWarning: DataFrame.mean and DataFrame.median with numeric_only=None will include datetime64 and datetime64tz columns in a future version.\n",
      "  df[df['cluster'] == 3].mean()\n",
      "C:\\Users\\Owner\\AppData\\Local\\Temp\\ipykernel_5692\\2585729423.py:1: FutureWarning: Dropping of nuisance columns in DataFrame reductions (with 'numeric_only=None') is deprecated; in a future version this will raise TypeError.  Select only valid columns before calling the reduction.\n",
      "  df[df['cluster'] == 3].mean()\n"
     ]
    },
    {
     "data": {
      "text/plain": [
       "invoice           9.922310e+28\n",
       "quantity          1.000000e+00\n",
       "price             8.864848e+03\n",
       "customer_id       1.529000e+04\n",
       "total_sales       8.864848e+03\n",
       "year              2.010000e+03\n",
       "hour              1.280000e+01\n",
       "spend_category    1.000000e+00\n",
       "cluster           3.000000e+00\n",
       "dtype: float64"
      ]
     },
     "execution_count": 105,
     "metadata": {},
     "output_type": "execute_result"
    }
   ],
   "source": [
    "df[df['cluster'] == 3].mean()"
   ]
  },
  {
   "cell_type": "code",
   "execution_count": 106,
   "id": "39c13d2d",
   "metadata": {},
   "outputs": [
    {
     "name": "stderr",
     "output_type": "stream",
     "text": [
      "C:\\Users\\Owner\\AppData\\Local\\Temp\\ipykernel_5692\\4181422959.py:1: FutureWarning: DataFrame.mean and DataFrame.median with numeric_only=None will include datetime64 and datetime64tz columns in a future version.\n",
      "  df[df['cluster'] == 4].mean()\n",
      "C:\\Users\\Owner\\AppData\\Local\\Temp\\ipykernel_5692\\4181422959.py:1: FutureWarning: Dropping of nuisance columns in DataFrame reductions (with 'numeric_only=None') is deprecated; in a future version this will raise TypeError.  Select only valid columns before calling the reduction.\n",
      "  df[df['cluster'] == 4].mean()\n"
     ]
    },
    {
     "data": {
      "text/plain": [
       "invoice                    inf\n",
       "quantity          2.913678e+02\n",
       "price             2.647586e+01\n",
       "customer_id       1.547551e+04\n",
       "total_sales       5.669323e+02\n",
       "year              2.009926e+03\n",
       "hour              1.215449e+01\n",
       "spend_category    1.000000e+00\n",
       "cluster           4.000000e+00\n",
       "dtype: float64"
      ]
     },
     "execution_count": 106,
     "metadata": {},
     "output_type": "execute_result"
    }
   ],
   "source": [
    "df[df['cluster'] == 4].mean()"
   ]
  },
  {
   "cell_type": "code",
   "execution_count": 152,
   "id": "c11cbda7",
   "metadata": {
    "collapsed": true
   },
   "outputs": [
    {
     "name": "stdout",
     "output_type": "stream",
     "text": [
      "For cluster2 the silhouette score is 0.8922075309009764\n",
      "For cluster3 the silhouette score is 0.6736364193255339\n",
      "For cluster4 the silhouette score is 0.6738593426341496\n",
      "For cluster5 the silhouette score is 0.5925972400060132\n"
     ]
    }
   ],
   "source": [
    "# Checking the silhouette scores \n",
    "\n",
    "for i in range(2,6):\n",
    "    kmeans = KMeans(n_clusters=i, max_iter=40).fit(scaled_X)\n",
    "    cluster_labels = kmeans.labels_\n",
    "    silhouette_avg = silhouette_score(scaled_X, cluster_labels)\n",
    "    print('For cluster{} the silhouette score is {}'.format(i, silhouette_avg))"
   ]
  },
  {
   "cell_type": "markdown",
   "id": "544b2a20",
   "metadata": {},
   "source": [
    "# Deep Learning"
   ]
  },
  {
   "cell_type": "code",
   "execution_count": 128,
   "id": "fff16f6e",
   "metadata": {},
   "outputs": [
    {
     "data": {
      "text/plain": [
       "(404372, 7)"
      ]
     },
     "execution_count": 128,
     "metadata": {},
     "output_type": "execute_result"
    }
   ],
   "source": [
    "#  Scaling the data\n",
    "df_deep_learning = scaled_X\n",
    "\n",
    "df_deep_learning.shape"
   ]
  },
  {
   "cell_type": "code",
   "execution_count": 134,
   "id": "701b32dd",
   "metadata": {},
   "outputs": [
    {
     "data": {
      "text/plain": [
       "(404372,)"
      ]
     },
     "execution_count": 134,
     "metadata": {},
     "output_type": "execute_result"
    }
   ],
   "source": [
    "# Setting up features and labels\n",
    "\n",
    "X_dp = df_deep_learning[['quantity', 'price', 'spend_category']]\n",
    "\n",
    "y_dp = df_deep_learning['cluster']\n"
   ]
  },
  {
   "cell_type": "code",
   "execution_count": 121,
   "id": "1d77b7b6",
   "metadata": {},
   "outputs": [
    {
     "name": "stderr",
     "output_type": "stream",
     "text": [
      "C:\\Users\\Owner\\anaconda3\\lib\\site-packages\\sklearn\\model_selection\\_split.py:680: UserWarning: The least populated class in y has only 4 members, which is less than n_splits=5.\n",
      "  warnings.warn(\n"
     ]
    },
    {
     "data": {
      "text/plain": [
       "0.5804134195748889"
      ]
     },
     "execution_count": 121,
     "metadata": {},
     "output_type": "execute_result"
    }
   ],
   "source": [
    "# Baseline model\n",
    "\n",
    "X_train_full, X_test, y_train_full, y_test = train_test_split(X_dp, y_dp, test_size=0.20, random_state=42)\n",
    "\n",
    "model = DecisionTreeClassifier(max_depth=5)\n",
    "scores = cross_val_score(model, X_train_full, y_train_full, cv=5)\n",
    "\n",
    "scores.mean()"
   ]
  },
  {
   "cell_type": "code",
   "execution_count": 139,
   "id": "c0ba0d0e",
   "metadata": {},
   "outputs": [
    {
     "data": {
      "text/plain": [
       "(80875,)"
      ]
     },
     "execution_count": 139,
     "metadata": {},
     "output_type": "execute_result"
    }
   ],
   "source": [
    "y_test.shape"
   ]
  },
  {
   "cell_type": "code",
   "execution_count": 125,
   "id": "7dde37a6",
   "metadata": {},
   "outputs": [
    {
     "data": {
      "text/plain": [
       "(323497, 3)"
      ]
     },
     "execution_count": 125,
     "metadata": {},
     "output_type": "execute_result"
    }
   ],
   "source": [
    "X_train_full.shape"
   ]
  },
  {
   "cell_type": "code",
   "execution_count": 137,
   "id": "9e67df73",
   "metadata": {},
   "outputs": [
    {
     "data": {
      "text/plain": [
       "(80875, 3)"
      ]
     },
     "execution_count": 137,
     "metadata": {},
     "output_type": "execute_result"
    }
   ],
   "source": [
    "X_test.shape"
   ]
  },
  {
   "cell_type": "code",
   "execution_count": 140,
   "id": "93d15db1",
   "metadata": {},
   "outputs": [],
   "source": [
    "# Hold out Cross Validation\n",
    "\n",
    "X_valid = X_train_full[:40437]\n",
    "X_train = X_train_full[40437:]\n",
    "\n",
    "y_valid = y_train_full[:40437]\n",
    "y_train = y_train_full[40437:]"
   ]
  },
  {
   "cell_type": "code",
   "execution_count": 141,
   "id": "5b3f64e0",
   "metadata": {},
   "outputs": [],
   "source": [
    "# Setttnig up the neural network\n",
    "\n",
    "model = Sequential()\n",
    "model.add(Dense(100, activation = 'relu'))\n",
    "model.add(Dense(100, activation = 'relu'))\n",
    "model.add(Dense(5, activation = 'softmax'))\n",
    "model.compile(loss='sparse_categorical_crossentropy', optimizer= 'sgd', metrics=['accuracy'])"
   ]
  },
  {
   "cell_type": "code",
   "execution_count": 142,
   "id": "16dd005c",
   "metadata": {
    "collapsed": true
   },
   "outputs": [
    {
     "name": "stdout",
     "output_type": "stream",
     "text": [
      "Epoch 1/20\n",
      "8846/8846 [==============================] - 27s 3ms/step - loss: 0.8912 - accuracy: 0.5801 - val_loss: 0.8730 - val_accuracy: 0.5809\n",
      "Epoch 2/20\n",
      "8846/8846 [==============================] - 26s 3ms/step - loss: 0.8734 - accuracy: 0.5803 - val_loss: 0.8711 - val_accuracy: 0.5809\n",
      "Epoch 3/20\n",
      "8846/8846 [==============================] - 25s 3ms/step - loss: 0.8730 - accuracy: 0.5803 - val_loss: 0.8706 - val_accuracy: 0.5809\n",
      "Epoch 4/20\n",
      "8846/8846 [==============================] - 25s 3ms/step - loss: 0.8729 - accuracy: 0.5803 - val_loss: 0.8701 - val_accuracy: 0.5809\n",
      "Epoch 5/20\n",
      "8846/8846 [==============================] - 26s 3ms/step - loss: 0.8727 - accuracy: 0.5803 - val_loss: 0.8704 - val_accuracy: 0.5809\n",
      "Epoch 6/20\n",
      "8846/8846 [==============================] - 25s 3ms/step - loss: 0.8726 - accuracy: 0.5803 - val_loss: 0.8702 - val_accuracy: 0.5809\n",
      "Epoch 7/20\n",
      "8846/8846 [==============================] - 25s 3ms/step - loss: 0.8726 - accuracy: 0.5803 - val_loss: 0.8703 - val_accuracy: 0.5809\n",
      "Epoch 8/20\n",
      "8846/8846 [==============================] - 25s 3ms/step - loss: 0.8726 - accuracy: 0.5803 - val_loss: 0.8704 - val_accuracy: 0.5809\n",
      "Epoch 9/20\n",
      "8846/8846 [==============================] - 25s 3ms/step - loss: 0.8724 - accuracy: 0.5803 - val_loss: 0.8706 - val_accuracy: 0.5809\n",
      "Epoch 10/20\n",
      "8846/8846 [==============================] - 24s 3ms/step - loss: 0.8723 - accuracy: 0.5803 - val_loss: 0.8701 - val_accuracy: 0.5809\n",
      "Epoch 11/20\n",
      "8846/8846 [==============================] - 24s 3ms/step - loss: 0.8723 - accuracy: 0.5803 - val_loss: 0.8707 - val_accuracy: 0.5809\n",
      "Epoch 12/20\n",
      "8846/8846 [==============================] - 24s 3ms/step - loss: 0.8723 - accuracy: 0.5803 - val_loss: 0.8703 - val_accuracy: 0.5809\n",
      "Epoch 13/20\n",
      "8846/8846 [==============================] - 26s 3ms/step - loss: 0.8723 - accuracy: 0.5803 - val_loss: 0.8704 - val_accuracy: 0.5809\n",
      "Epoch 14/20\n",
      "8846/8846 [==============================] - 24s 3ms/step - loss: 0.8722 - accuracy: 0.5803 - val_loss: 0.8700 - val_accuracy: 0.5809\n",
      "Epoch 15/20\n",
      "8846/8846 [==============================] - 24s 3ms/step - loss: 0.8722 - accuracy: 0.5803 - val_loss: 0.8696 - val_accuracy: 0.5809\n",
      "Epoch 16/20\n",
      "8846/8846 [==============================] - 24s 3ms/step - loss: 0.8722 - accuracy: 0.5803 - val_loss: 0.8698 - val_accuracy: 0.5809\n",
      "Epoch 17/20\n",
      "8846/8846 [==============================] - 25s 3ms/step - loss: 0.8720 - accuracy: 0.5804 - val_loss: 0.8709 - val_accuracy: 0.5809\n",
      "Epoch 18/20\n",
      "8846/8846 [==============================] - 24s 3ms/step - loss: 0.8722 - accuracy: 0.5803 - val_loss: 0.8699 - val_accuracy: 0.5809\n",
      "Epoch 19/20\n",
      "8846/8846 [==============================] - 24s 3ms/step - loss: 0.8720 - accuracy: 0.5803 - val_loss: 0.8706 - val_accuracy: 0.5809\n",
      "Epoch 20/20\n",
      "8846/8846 [==============================] - 24s 3ms/step - loss: 0.8720 - accuracy: 0.5803 - val_loss: 0.8698 - val_accuracy: 0.5810\n"
     ]
    }
   ],
   "source": [
    "callback = model.fit(X_train, y_train, epochs=20, validation_data=(X_valid, y_valid))"
   ]
  },
  {
   "cell_type": "code",
   "execution_count": 144,
   "id": "472109ff",
   "metadata": {},
   "outputs": [
    {
     "name": "stdout",
     "output_type": "stream",
     "text": [
      "2528/2528 [==============================] - 5s 2ms/step - loss: 0.8702 - accuracy: 0.5786\n"
     ]
    },
    {
     "data": {
      "text/plain": [
       "[0.8701638579368591, 0.5785595178604126]"
      ]
     },
     "execution_count": 144,
     "metadata": {},
     "output_type": "execute_result"
    }
   ],
   "source": [
    "model.evaluate(X_test, y_test)"
   ]
  },
  {
   "cell_type": "code",
   "execution_count": 145,
   "id": "24f679f0",
   "metadata": {},
   "outputs": [
    {
     "name": "stdout",
     "output_type": "stream",
     "text": [
      "2528/2528 [==============================] - 4s 1ms/step\n"
     ]
    },
    {
     "data": {
      "text/plain": [
       "(80875, 5)"
      ]
     },
     "execution_count": 145,
     "metadata": {},
     "output_type": "execute_result"
    }
   ],
   "source": [
    "y_pred = model.predict(X_test)\n",
    "\n",
    "y_pred.shape"
   ]
  },
  {
   "cell_type": "code",
   "execution_count": 147,
   "id": "0259e04a",
   "metadata": {},
   "outputs": [
    {
     "name": "stdout",
     "output_type": "stream",
     "text": [
      "Epoch 1/20\n",
      "8846/8846 [==============================] - 24s 3ms/step - loss: 0.8911 - accuracy: 0.5803 - val_loss: 0.8714 - val_accuracy: 0.5809\n",
      "Epoch 2/20\n",
      "8846/8846 [==============================] - 21s 2ms/step - loss: 0.8735 - accuracy: 0.5803 - val_loss: 0.8727 - val_accuracy: 0.5809\n",
      "Epoch 3/20\n",
      "8846/8846 [==============================] - 20s 2ms/step - loss: 0.8730 - accuracy: 0.5803 - val_loss: 0.8707 - val_accuracy: 0.5809\n",
      "Epoch 4/20\n",
      "8846/8846 [==============================] - 20s 2ms/step - loss: 0.8731 - accuracy: 0.5803 - val_loss: 0.8704 - val_accuracy: 0.5809\n",
      "Epoch 5/20\n",
      "8846/8846 [==============================] - 22s 3ms/step - loss: 0.8727 - accuracy: 0.5803 - val_loss: 0.8710 - val_accuracy: 0.5809\n",
      "Epoch 6/20\n",
      "8846/8846 [==============================] - 24s 3ms/step - loss: 0.8726 - accuracy: 0.5803 - val_loss: 0.8701 - val_accuracy: 0.5809\n",
      "Epoch 7/20\n",
      "8846/8846 [==============================] - 28s 3ms/step - loss: 0.8725 - accuracy: 0.5803 - val_loss: 0.8701 - val_accuracy: 0.5809\n",
      "Epoch 8/20\n",
      "8846/8846 [==============================] - 25s 3ms/step - loss: 0.8725 - accuracy: 0.5803 - val_loss: 0.8707 - val_accuracy: 0.5809\n",
      "Epoch 9/20\n",
      "8846/8846 [==============================] - 23s 3ms/step - loss: 0.8723 - accuracy: 0.5803 - val_loss: 0.8697 - val_accuracy: 0.5809\n",
      "Epoch 10/20\n",
      "8846/8846 [==============================] - 24s 3ms/step - loss: 0.8725 - accuracy: 0.5803 - val_loss: 0.8700 - val_accuracy: 0.5809\n",
      "Epoch 11/20\n",
      "8846/8846 [==============================] - 23s 3ms/step - loss: 0.8723 - accuracy: 0.5803 - val_loss: 0.8707 - val_accuracy: 0.5809\n",
      "Epoch 12/20\n",
      "8846/8846 [==============================] - 19s 2ms/step - loss: 0.8723 - accuracy: 0.5803 - val_loss: 0.8708 - val_accuracy: 0.5809\n",
      "Epoch 13/20\n",
      "8846/8846 [==============================] - 25s 3ms/step - loss: 0.8722 - accuracy: 0.5803 - val_loss: 0.8697 - val_accuracy: 0.5809\n",
      "Epoch 14/20\n",
      "8846/8846 [==============================] - 19s 2ms/step - loss: 0.8722 - accuracy: 0.5803 - val_loss: 0.8706 - val_accuracy: 0.5809\n",
      "Epoch 15/20\n",
      "8846/8846 [==============================] - 19s 2ms/step - loss: 0.8724 - accuracy: 0.5803 - val_loss: 0.8699 - val_accuracy: 0.5809\n",
      "Epoch 16/20\n",
      "8846/8846 [==============================] - 23s 3ms/step - loss: 0.8721 - accuracy: 0.5803 - val_loss: 0.8695 - val_accuracy: 0.5809\n",
      "Epoch 17/20\n",
      "8846/8846 [==============================] - 22s 2ms/step - loss: 0.8721 - accuracy: 0.5803 - val_loss: 0.8694 - val_accuracy: 0.5809\n",
      "Epoch 18/20\n",
      "8846/8846 [==============================] - 26s 3ms/step - loss: 0.8720 - accuracy: 0.5803 - val_loss: 0.8713 - val_accuracy: 0.5809\n",
      "Epoch 19/20\n",
      "8846/8846 [==============================] - 21s 2ms/step - loss: 0.8720 - accuracy: 0.5803 - val_loss: 0.8695 - val_accuracy: 0.5809\n",
      "Epoch 20/20\n",
      "8846/8846 [==============================] - 23s 3ms/step - loss: 0.8720 - accuracy: 0.5803 - val_loss: 0.8693 - val_accuracy: 0.5809\n"
     ]
    }
   ],
   "source": [
    "# Setttnig up the neural network with 200 nuerons\n",
    "\n",
    "model = Sequential()\n",
    "model.add(Dense(200, activation = 'relu'))\n",
    "model.add(Dense(200, activation = 'relu'))\n",
    "model.add(Dense(5, activation = 'softmax'))\n",
    "model.compile(loss='sparse_categorical_crossentropy', optimizer= 'sgd', metrics=['accuracy'])\n",
    "callback = model.fit(X_train, y_train, epochs=20, validation_data=(X_valid, y_valid))"
   ]
  },
  {
   "cell_type": "code",
   "execution_count": 155,
   "id": "0a709dd2",
   "metadata": {},
   "outputs": [
    {
     "name": "stdout",
     "output_type": "stream",
     "text": [
      "Epoch 1/20\n",
      "8846/8846 [==============================] - 19s 2ms/step - loss: 0.8786 - accuracy: 0.5800 - val_loss: 0.8718 - val_accuracy: 0.5809\n",
      "Epoch 2/20\n",
      "8846/8846 [==============================] - 17s 2ms/step - loss: 0.8739 - accuracy: 0.5803 - val_loss: 0.8710 - val_accuracy: 0.5809\n",
      "Epoch 3/20\n",
      "8846/8846 [==============================] - 17s 2ms/step - loss: 0.8732 - accuracy: 0.5803 - val_loss: 0.8711 - val_accuracy: 0.5809\n",
      "Epoch 4/20\n",
      "8846/8846 [==============================] - 17s 2ms/step - loss: 0.8726 - accuracy: 0.5803 - val_loss: 0.8708 - val_accuracy: 0.5809\n",
      "Epoch 5/20\n",
      "8846/8846 [==============================] - 17s 2ms/step - loss: 0.8728 - accuracy: 0.5803 - val_loss: 0.8818 - val_accuracy: 0.5808\n",
      "Epoch 6/20\n",
      "8846/8846 [==============================] - 16s 2ms/step - loss: 0.8723 - accuracy: 0.5803 - val_loss: 0.8701 - val_accuracy: 0.5809\n",
      "Epoch 7/20\n",
      "8846/8846 [==============================] - 15s 2ms/step - loss: 0.8736 - accuracy: 0.5803 - val_loss: 0.8701 - val_accuracy: 0.5809\n",
      "Epoch 8/20\n",
      "8846/8846 [==============================] - 16s 2ms/step - loss: 0.8726 - accuracy: 0.5803 - val_loss: 0.8704 - val_accuracy: 0.5809\n",
      "Epoch 9/20\n",
      "8846/8846 [==============================] - 15s 2ms/step - loss: 0.8721 - accuracy: 0.5803 - val_loss: 0.8693 - val_accuracy: 0.5809\n",
      "Epoch 10/20\n",
      "8846/8846 [==============================] - 15s 2ms/step - loss: 0.8719 - accuracy: 0.5803 - val_loss: 0.8694 - val_accuracy: 0.5809\n",
      "Epoch 11/20\n",
      "8846/8846 [==============================] - 15s 2ms/step - loss: 0.8718 - accuracy: 0.5803 - val_loss: 0.8695 - val_accuracy: 0.5809\n",
      "Epoch 12/20\n",
      "8846/8846 [==============================] - 15s 2ms/step - loss: 0.8717 - accuracy: 0.5803 - val_loss: 0.8697 - val_accuracy: 0.5809\n",
      "Epoch 13/20\n",
      "8846/8846 [==============================] - 16s 2ms/step - loss: 0.8719 - accuracy: 0.5803 - val_loss: 0.8690 - val_accuracy: 0.5809\n",
      "Epoch 14/20\n",
      "8846/8846 [==============================] - 15s 2ms/step - loss: 0.8726 - accuracy: 0.5803 - val_loss: 0.8691 - val_accuracy: 0.5809\n",
      "Epoch 15/20\n",
      "8846/8846 [==============================] - 15s 2ms/step - loss: 0.8718 - accuracy: 0.5803 - val_loss: 0.8688 - val_accuracy: 0.5809\n",
      "Epoch 16/20\n",
      "8846/8846 [==============================] - 17s 2ms/step - loss: 0.8716 - accuracy: 0.5803 - val_loss: 0.8697 - val_accuracy: 0.5809\n",
      "Epoch 17/20\n",
      "8846/8846 [==============================] - 17s 2ms/step - loss: 0.8716 - accuracy: 0.5803 - val_loss: 0.8697 - val_accuracy: 0.5809\n",
      "Epoch 18/20\n",
      "8846/8846 [==============================] - 16s 2ms/step - loss: 0.8715 - accuracy: 0.5803 - val_loss: 0.8690 - val_accuracy: 0.5809\n",
      "Epoch 19/20\n",
      "8846/8846 [==============================] - 16s 2ms/step - loss: 0.8719 - accuracy: 0.5803 - val_loss: 0.8701 - val_accuracy: 0.5809\n",
      "Epoch 20/20\n",
      "8846/8846 [==============================] - 16s 2ms/step - loss: 0.8715 - accuracy: 0.5803 - val_loss: 0.8691 - val_accuracy: 0.5809\n"
     ]
    }
   ],
   "source": [
    "# Setttnig up the neural network with 100 nuerons, selu and adam as the optimizer\n",
    "\n",
    "model = Sequential()\n",
    "model.add(Dense(100, activation = 'selu'))\n",
    "model.add(Dense(100, activation = 'selu'))\n",
    "model.add(Dense(5, activation = 'softmax'))\n",
    "model.compile(loss='sparse_categorical_crossentropy', optimizer= 'adam', metrics=['accuracy'])\n",
    "callback = model.fit(X_train, y_train, epochs=20, validation_data=(X_valid, y_valid))"
   ]
  },
  {
   "cell_type": "code",
   "execution_count": 156,
   "id": "6437bd1e",
   "metadata": {},
   "outputs": [
    {
     "name": "stdout",
     "output_type": "stream",
     "text": [
      "2528/2528 [==============================] - 4s 2ms/step - loss: 0.8697 - accuracy: 0.5785\n"
     ]
    },
    {
     "data": {
      "text/plain": [
       "[0.8696778416633606, 0.5785471200942993]"
      ]
     },
     "execution_count": 156,
     "metadata": {},
     "output_type": "execute_result"
    }
   ],
   "source": [
    "model.evaluate(X_test, y_test)"
   ]
  },
  {
   "cell_type": "markdown",
   "id": "92793594",
   "metadata": {},
   "source": [
    "# Conclusion and next steps\n",
    "\n",
    "In conclusion, this project has provided me with valuable hands-on experience in various essential aspects of Data Science. By successfully applying K-means Clustering and Deep Learning techniques, I have gained proficiency in analyzing and extracting insights from datasets. Furthermore, the project has allowed me to sharpen my skills in critical areas such as data exploration, feature engineering, fine-tuning model parameters, selecting appropriate models, and interpreting model results.\n",
    "\n",
    "The model achieved an accuracy of 0.5785, serving as a baseline for further improvement and exploration. While the achieved accuracy falls below the desired level, it provides a starting point for future iterations, allowing for the implementation of more advanced techniques and algorithms to enhance predictive performance. These findings can be leveraged to drive targeted marketing strategies and enhance customer satisfaction in the retail industry.\n",
    "\n",
    "Looking ahead, I am eager to expand my knowledge further and explore advanced topics in Data Science and Big Data analytics. This project has laid a solid foundation for me to continue my learning journey and tackle more complex and challenging projects in the future. I am excited to continue exploring new datasets, experimenting with different algorithms, and enhancing my expertise in data-driven decision-making.\n",
    "\n",
    "Overall, this project has enhanced my understanding of data analysis techniques and instilled in me a passion for leveraging data to derive meaningful insights and drive impactful outcomes."
   ]
  }
 ],
 "metadata": {
  "kernelspec": {
   "display_name": "Python 3 (ipykernel)",
   "language": "python",
   "name": "python3"
  },
  "language_info": {
   "codemirror_mode": {
    "name": "ipython",
    "version": 3
   },
   "file_extension": ".py",
   "mimetype": "text/x-python",
   "name": "python",
   "nbconvert_exporter": "python",
   "pygments_lexer": "ipython3",
   "version": "3.9.12"
  }
 },
 "nbformat": 4,
 "nbformat_minor": 5
}
